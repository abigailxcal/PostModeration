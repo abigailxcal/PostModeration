{
 "cells": [
  {
   "cell_type": "code",
   "execution_count": 1,
   "id": "528c8309",
   "metadata": {},
   "outputs": [
    {
     "name": "stdout",
     "output_type": "stream",
     "text": [
      "Requirement already satisfied: keras in /opt/anaconda3/lib/python3.12/site-packages (3.10.0)\n",
      "Requirement already satisfied: keras_preprocessing in /opt/anaconda3/lib/python3.12/site-packages (1.1.2)\n",
      "Requirement already satisfied: absl-py in /opt/anaconda3/lib/python3.12/site-packages (from keras) (2.1.0)\n",
      "Requirement already satisfied: numpy in /opt/anaconda3/lib/python3.12/site-packages (from keras) (1.26.4)\n",
      "Requirement already satisfied: rich in /opt/anaconda3/lib/python3.12/site-packages (from keras) (13.7.1)\n",
      "Requirement already satisfied: namex in /opt/anaconda3/lib/python3.12/site-packages (from keras) (0.0.7)\n",
      "Requirement already satisfied: h5py in /opt/anaconda3/lib/python3.12/site-packages (from keras) (3.12.1)\n",
      "Requirement already satisfied: optree in /opt/anaconda3/lib/python3.12/site-packages (from keras) (0.14.1)\n",
      "Requirement already satisfied: ml-dtypes in /opt/anaconda3/lib/python3.12/site-packages (from keras) (0.4.1)\n",
      "Requirement already satisfied: packaging in /opt/anaconda3/lib/python3.12/site-packages (from keras) (24.1)\n",
      "Requirement already satisfied: six>=1.9.0 in /opt/anaconda3/lib/python3.12/site-packages (from keras_preprocessing) (1.16.0)\n",
      "Requirement already satisfied: typing-extensions>=4.5.0 in /opt/anaconda3/lib/python3.12/site-packages (from optree->keras) (4.11.0)\n",
      "Requirement already satisfied: markdown-it-py>=2.2.0 in /opt/anaconda3/lib/python3.12/site-packages (from rich->keras) (2.2.0)\n",
      "Requirement already satisfied: pygments<3.0.0,>=2.13.0 in /opt/anaconda3/lib/python3.12/site-packages (from rich->keras) (2.15.1)\n",
      "Requirement already satisfied: mdurl~=0.1 in /opt/anaconda3/lib/python3.12/site-packages (from markdown-it-py>=2.2.0->rich->keras) (0.1.0)\n",
      "Note: you may need to restart the kernel to use updated packages.\n"
     ]
    }
   ],
   "source": [
    "%pip install --upgrade keras keras_preprocessing"
   ]
  },
  {
   "cell_type": "code",
   "execution_count": 3,
   "id": "9f29e9b0",
   "metadata": {},
   "outputs": [
    {
     "name": "stderr",
     "output_type": "stream",
     "text": [
      "[nltk_data] Downloading package punkt_tab to\n",
      "[nltk_data]     /Users/abigailcalderon/nltk_data...\n",
      "[nltk_data]   Package punkt_tab is already up-to-date!\n",
      "[nltk_data] Downloading package wordnet to\n",
      "[nltk_data]     /Users/abigailcalderon/nltk_data...\n",
      "[nltk_data]   Package wordnet is already up-to-date!\n",
      "[nltk_data] Downloading package stopwords to\n",
      "[nltk_data]     /Users/abigailcalderon/nltk_data...\n",
      "[nltk_data]   Package stopwords is already up-to-date!\n",
      "[nltk_data] Downloading package omw-1.4 to\n",
      "[nltk_data]     /Users/abigailcalderon/nltk_data...\n",
      "[nltk_data]   Package omw-1.4 is already up-to-date!\n"
     ]
    }
   ],
   "source": [
    "import pandas as pd\n",
    "import numpy as np\n",
    "import os\n",
    "import re\n",
    "\n",
    "\n",
    "from sklearn.feature_extraction.text import CountVectorizer\n",
    "from sklearn.feature_extraction.text import TfidfVectorizer\n",
    "\n",
    "\n",
    "\n",
    "# SVM\n",
    "from sklearn.svm import LinearSVC  # for text, linear SVM usually works best\n",
    "from sklearn.svm import SVC\n",
    "\n",
    "import nltk\n",
    "from nltk import word_tokenize\n",
    "from nltk.stem import WordNetLemmatizer\n",
    "from nltk.corpus import stopwords\n",
    "\n",
    "# LSTM (use \"Base\" conda env)\n",
    "import tensorflow as tf\n",
    "from keras.models import Sequential \n",
    "from keras.layers import Embedding, LSTM, Dense, Dropout, Bidirectional\n",
    "from keras_preprocessing.sequence import pad_sequences\n",
    "from keras_preprocessing.text import Tokenizer\n",
    "# from keras._tf_keras.keras.models import Sequential\n",
    "# from keras._tf_keras.keras.layers import Embedding, LSTM, Dense, Dropout, Bidirectional\n",
    "from sklearn.model_selection import train_test_split\n",
    "from sklearn.metrics import classification_report, confusion_matrix\n",
    "\n",
    "\n",
    "\n",
    "nltk.download('punkt_tab')\n",
    "#nltk.download('punkt')\n",
    "nltk.download('wordnet')\n",
    "nltk.download('stopwords')\n",
    "nltk.download('omw-1.4')\n",
    "from sklearn.decomposition import PCA\n",
    "import seaborn as sns\n",
    "import matplotlib.pyplot as plt\n",
    "from sklearn.preprocessing import StandardScaler, MinMaxScaler\n",
    "from sklearn.linear_model import LogisticRegression\n",
    "from sklearn.datasets import make_classification\n"
   ]
  },
  {
   "cell_type": "markdown",
   "id": "f53b5fda",
   "metadata": {},
   "source": [
    "This notebook aims to train a model on the most reliable dataset so that it can reclassify HateSpeechDatasetBalanced.csv since it's very inconsistent"
   ]
  },
  {
   "cell_type": "code",
   "execution_count": 4,
   "id": "e9e6ee61",
   "metadata": {},
   "outputs": [
    {
     "data": {
      "application/vnd.microsoft.datawrangler.viewer.v0+json": {
       "columns": [
        {
         "name": "index",
         "rawType": "int64",
         "type": "integer"
        },
        {
         "name": "Unnamed: 0",
         "rawType": "int64",
         "type": "integer"
        },
        {
         "name": "count",
         "rawType": "int64",
         "type": "integer"
        },
        {
         "name": "hate_speech",
         "rawType": "int64",
         "type": "integer"
        },
        {
         "name": "offensive_language",
         "rawType": "int64",
         "type": "integer"
        },
        {
         "name": "neither",
         "rawType": "int64",
         "type": "integer"
        },
        {
         "name": "class",
         "rawType": "int64",
         "type": "integer"
        },
        {
         "name": "tweet",
         "rawType": "object",
         "type": "string"
        }
       ],
       "ref": "76789344-df47-4988-98f9-411985fc2858",
       "rows": [
        [
         "0",
         "0",
         "3",
         "0",
         "0",
         "3",
         "2",
         "!!! RT @mayasolovely: As a woman you shouldn't complain about cleaning up your house. &amp; as a man you should always take the trash out..."
        ],
        [
         "1",
         "1",
         "3",
         "0",
         "3",
         "0",
         "1",
         "!!!!! RT @mleew17: boy dats cold...tyga dwn bad for cuffin dat hoe in the 1st place!!"
        ],
        [
         "2",
         "2",
         "3",
         "0",
         "3",
         "0",
         "1",
         "!!!!!!! RT @UrKindOfBrand Dawg!!!! RT @80sbaby4life: You ever fuck a bitch and she start to cry? You be confused as shit"
        ],
        [
         "3",
         "3",
         "3",
         "0",
         "2",
         "1",
         "1",
         "!!!!!!!!! RT @C_G_Anderson: @viva_based she look like a tranny"
        ],
        [
         "4",
         "4",
         "6",
         "0",
         "6",
         "0",
         "1",
         "!!!!!!!!!!!!! RT @ShenikaRoberts: The shit you hear about me might be true or it might be faker than the bitch who told it to ya &#57361;"
        ],
        [
         "5",
         "5",
         "3",
         "1",
         "2",
         "0",
         "1",
         "!!!!!!!!!!!!!!!!!!\"@T_Madison_x: The shit just blows me..claim you so faithful and down for somebody but still fucking with hoes! &#128514;&#128514;&#128514;\""
        ],
        [
         "6",
         "6",
         "3",
         "0",
         "3",
         "0",
         "1",
         "!!!!!!\"@__BrighterDays: I can not just sit up and HATE on another bitch .. I got too much shit going on!\""
        ],
        [
         "7",
         "7",
         "3",
         "0",
         "3",
         "0",
         "1",
         "!!!!&#8220;@selfiequeenbri: cause I'm tired of you big bitches coming for us skinny girls!!&#8221;"
        ],
        [
         "8",
         "8",
         "3",
         "0",
         "3",
         "0",
         "1",
         "\" &amp; you might not get ya bitch back &amp; thats that \""
        ],
        [
         "9",
         "9",
         "3",
         "1",
         "2",
         "0",
         "1",
         "\" @rhythmixx_ :hobbies include: fighting Mariam\"\n\nbitch"
        ],
        [
         "10",
         "10",
         "3",
         "0",
         "3",
         "0",
         "1",
         "\" Keeks is a bitch she curves everyone \" lol I walked into a conversation like this. Smh"
        ],
        [
         "11",
         "11",
         "3",
         "0",
         "3",
         "0",
         "1",
         "\" Murda Gang bitch its Gang Land \""
        ],
        [
         "12",
         "12",
         "3",
         "0",
         "2",
         "1",
         "1",
         "\" So hoes that smoke are losers ? \" yea ... go on IG"
        ],
        [
         "13",
         "13",
         "3",
         "0",
         "3",
         "0",
         "1",
         "\" bad bitches is the only thing that i like \""
        ],
        [
         "14",
         "14",
         "3",
         "1",
         "2",
         "0",
         "1",
         "\" bitch get up off me \""
        ],
        [
         "15",
         "15",
         "3",
         "0",
         "3",
         "0",
         "1",
         "\" bitch nigga miss me with it \""
        ],
        [
         "16",
         "16",
         "3",
         "0",
         "3",
         "0",
         "1",
         "\" bitch plz whatever \""
        ],
        [
         "17",
         "17",
         "3",
         "1",
         "2",
         "0",
         "1",
         "\" bitch who do you love \""
        ],
        [
         "18",
         "18",
         "3",
         "0",
         "3",
         "0",
         "1",
         "\" bitches get cut off everyday B \""
        ],
        [
         "19",
         "19",
         "3",
         "0",
         "3",
         "0",
         "1",
         "\" black bottle &amp; a bad bitch \""
        ],
        [
         "20",
         "20",
         "3",
         "0",
         "3",
         "0",
         "1",
         "\" broke bitch cant tell me nothing \""
        ],
        [
         "21",
         "21",
         "3",
         "0",
         "3",
         "0",
         "1",
         "\" cancel that bitch like Nino \""
        ],
        [
         "22",
         "22",
         "3",
         "0",
         "3",
         "0",
         "1",
         "\" cant you see these hoes wont change \""
        ],
        [
         "23",
         "23",
         "3",
         "0",
         "3",
         "0",
         "1",
         "\" fuck no that bitch dont even suck dick \" &#128514;&#128514;&#128514; the Kermit videos bout to fuck IG up"
        ],
        [
         "24",
         "24",
         "3",
         "0",
         "3",
         "0",
         "1",
         "\" got ya bitch tip toeing on my hardwood floors \" &#128514; http://t.co/cOU2WQ5L4q"
        ],
        [
         "25",
         "25",
         "3",
         "0",
         "2",
         "1",
         "1",
         "\" her pussy lips like Heaven doors \" &#128524;"
        ],
        [
         "26",
         "26",
         "3",
         "0",
         "3",
         "0",
         "1",
         "\" hoe what its hitting for \""
        ],
        [
         "27",
         "27",
         "3",
         "0",
         "3",
         "0",
         "1",
         "\" i met that pussy on Ocean Dr . i gave that pussy a pill \" &#128524;"
        ],
        [
         "28",
         "28",
         "3",
         "0",
         "3",
         "0",
         "1",
         "\" i need a trippy bitch who fuck on Hennessy \""
        ],
        [
         "29",
         "29",
         "3",
         "0",
         "3",
         "0",
         "1",
         "\" i spend my money how i want bitch its my business \""
        ],
        [
         "30",
         "30",
         "3",
         "0",
         "3",
         "0",
         "1",
         "\" i txt my old bitch my new bitch pussy wetter \""
        ],
        [
         "31",
         "31",
         "3",
         "0",
         "3",
         "0",
         "1",
         "\" i'd say im back to the old me but my old bitches would get excited \" &#128524;"
        ],
        [
         "32",
         "32",
         "3",
         "0",
         "3",
         "0",
         "1",
         "\" if you aint bout that Murder Game pussy nigga shut up \""
        ],
        [
         "33",
         "33",
         "3",
         "0",
         "3",
         "0",
         "1",
         "\" if you're toes ain't done you pussy stinks \""
        ],
        [
         "34",
         "34",
         "3",
         "0",
         "3",
         "0",
         "1",
         "\" im done with bitter bitches its a wrap for that . if you a angry bird theres a app for that \""
        ],
        [
         "35",
         "35",
         "3",
         "0",
         "3",
         "0",
         "1",
         "\" is that ya bitch \""
        ],
        [
         "36",
         "36",
         "3",
         "0",
         "3",
         "0",
         "1",
         "\" it aint nothing to cut a bitch off \""
        ],
        [
         "37",
         "37",
         "3",
         "0",
         "3",
         "0",
         "1",
         "\" jus meet son now he ya mane ass bitches \" #Shots"
        ],
        [
         "38",
         "38",
         "3",
         "0",
         "2",
         "1",
         "1",
         "\" lames crying over hoes thats tears of a clown \""
        ],
        [
         "39",
         "39",
         "3",
         "0",
         "3",
         "0",
         "1",
         "\" like Snoop said in 94 we dont love these hoes \""
        ],
        [
         "40",
         "40",
         "3",
         "0",
         "1",
         "2",
         "2",
         "\" momma said no pussy cats inside my doghouse \""
        ],
        [
         "41",
         "41",
         "3",
         "0",
         "3",
         "0",
         "1",
         "\" most hated but the hoes favorite \" #2MW #SevenOne # http://t.co/BMdSVMc3rC"
        ],
        [
         "42",
         "42",
         "3",
         "0",
         "3",
         "0",
         "1",
         "\" nice girls bad, make me get naughty. Bad yello hoe, real nice body. Down south chick, like em real thick\" http://t.co/bzRDl3kF7U"
        ],
        [
         "43",
         "43",
         "3",
         "0",
         "3",
         "0",
         "1",
         "\" pimps up pimps up hoes down \" Future voice"
        ],
        [
         "44",
         "44",
         "3",
         "0",
         "3",
         "0",
         "1",
         "\" post a picture of that pussy get 200 likes \""
        ],
        [
         "45",
         "45",
         "3",
         "0",
         "3",
         "0",
         "1",
         "\" pussy is a powerful drug \" &#128517; #HappyHumpDay http://t.co/R8jsymiB5b"
        ],
        [
         "46",
         "46",
         "3",
         "0",
         "3",
         "0",
         "1",
         "\" quick piece of pussy call it a drive by \""
        ],
        [
         "47",
         "47",
         "3",
         "0",
         "3",
         "0",
         "1",
         "\" running round here like some brand new pussy thats bout to get fucked \""
        ],
        [
         "48",
         "48",
         "3",
         "0",
         "3",
         "0",
         "1",
         "\" these bitches even worst they'll send them guys for you \""
        ],
        [
         "49",
         "49",
         "3",
         "1",
         "2",
         "0",
         "1",
         "\" these hoes like niggas that spend money not talk bout it \""
        ]
       ],
       "shape": {
        "columns": 7,
        "rows": 24783
       }
      },
      "text/html": [
       "<div>\n",
       "<style scoped>\n",
       "    .dataframe tbody tr th:only-of-type {\n",
       "        vertical-align: middle;\n",
       "    }\n",
       "\n",
       "    .dataframe tbody tr th {\n",
       "        vertical-align: top;\n",
       "    }\n",
       "\n",
       "    .dataframe thead th {\n",
       "        text-align: right;\n",
       "    }\n",
       "</style>\n",
       "<table border=\"1\" class=\"dataframe\">\n",
       "  <thead>\n",
       "    <tr style=\"text-align: right;\">\n",
       "      <th></th>\n",
       "      <th>Unnamed: 0</th>\n",
       "      <th>count</th>\n",
       "      <th>hate_speech</th>\n",
       "      <th>offensive_language</th>\n",
       "      <th>neither</th>\n",
       "      <th>class</th>\n",
       "      <th>tweet</th>\n",
       "    </tr>\n",
       "  </thead>\n",
       "  <tbody>\n",
       "    <tr>\n",
       "      <th>0</th>\n",
       "      <td>0</td>\n",
       "      <td>3</td>\n",
       "      <td>0</td>\n",
       "      <td>0</td>\n",
       "      <td>3</td>\n",
       "      <td>2</td>\n",
       "      <td>!!! RT @mayasolovely: As a woman you shouldn't...</td>\n",
       "    </tr>\n",
       "    <tr>\n",
       "      <th>1</th>\n",
       "      <td>1</td>\n",
       "      <td>3</td>\n",
       "      <td>0</td>\n",
       "      <td>3</td>\n",
       "      <td>0</td>\n",
       "      <td>1</td>\n",
       "      <td>!!!!! RT @mleew17: boy dats cold...tyga dwn ba...</td>\n",
       "    </tr>\n",
       "    <tr>\n",
       "      <th>2</th>\n",
       "      <td>2</td>\n",
       "      <td>3</td>\n",
       "      <td>0</td>\n",
       "      <td>3</td>\n",
       "      <td>0</td>\n",
       "      <td>1</td>\n",
       "      <td>!!!!!!! RT @UrKindOfBrand Dawg!!!! RT @80sbaby...</td>\n",
       "    </tr>\n",
       "    <tr>\n",
       "      <th>3</th>\n",
       "      <td>3</td>\n",
       "      <td>3</td>\n",
       "      <td>0</td>\n",
       "      <td>2</td>\n",
       "      <td>1</td>\n",
       "      <td>1</td>\n",
       "      <td>!!!!!!!!! RT @C_G_Anderson: @viva_based she lo...</td>\n",
       "    </tr>\n",
       "    <tr>\n",
       "      <th>4</th>\n",
       "      <td>4</td>\n",
       "      <td>6</td>\n",
       "      <td>0</td>\n",
       "      <td>6</td>\n",
       "      <td>0</td>\n",
       "      <td>1</td>\n",
       "      <td>!!!!!!!!!!!!! RT @ShenikaRoberts: The shit you...</td>\n",
       "    </tr>\n",
       "    <tr>\n",
       "      <th>...</th>\n",
       "      <td>...</td>\n",
       "      <td>...</td>\n",
       "      <td>...</td>\n",
       "      <td>...</td>\n",
       "      <td>...</td>\n",
       "      <td>...</td>\n",
       "      <td>...</td>\n",
       "    </tr>\n",
       "    <tr>\n",
       "      <th>24778</th>\n",
       "      <td>25291</td>\n",
       "      <td>3</td>\n",
       "      <td>0</td>\n",
       "      <td>2</td>\n",
       "      <td>1</td>\n",
       "      <td>1</td>\n",
       "      <td>you's a muthaf***in lie &amp;#8220;@LifeAsKing: @2...</td>\n",
       "    </tr>\n",
       "    <tr>\n",
       "      <th>24779</th>\n",
       "      <td>25292</td>\n",
       "      <td>3</td>\n",
       "      <td>0</td>\n",
       "      <td>1</td>\n",
       "      <td>2</td>\n",
       "      <td>2</td>\n",
       "      <td>you've gone and broke the wrong heart baby, an...</td>\n",
       "    </tr>\n",
       "    <tr>\n",
       "      <th>24780</th>\n",
       "      <td>25294</td>\n",
       "      <td>3</td>\n",
       "      <td>0</td>\n",
       "      <td>3</td>\n",
       "      <td>0</td>\n",
       "      <td>1</td>\n",
       "      <td>young buck wanna eat!!.. dat nigguh like I ain...</td>\n",
       "    </tr>\n",
       "    <tr>\n",
       "      <th>24781</th>\n",
       "      <td>25295</td>\n",
       "      <td>6</td>\n",
       "      <td>0</td>\n",
       "      <td>6</td>\n",
       "      <td>0</td>\n",
       "      <td>1</td>\n",
       "      <td>youu got wild bitches tellin you lies</td>\n",
       "    </tr>\n",
       "    <tr>\n",
       "      <th>24782</th>\n",
       "      <td>25296</td>\n",
       "      <td>3</td>\n",
       "      <td>0</td>\n",
       "      <td>0</td>\n",
       "      <td>3</td>\n",
       "      <td>2</td>\n",
       "      <td>~~Ruffled | Ntac Eileen Dahlia - Beautiful col...</td>\n",
       "    </tr>\n",
       "  </tbody>\n",
       "</table>\n",
       "<p>24783 rows × 7 columns</p>\n",
       "</div>"
      ],
      "text/plain": [
       "       Unnamed: 0  count  hate_speech  offensive_language  neither  class  \\\n",
       "0               0      3            0                   0        3      2   \n",
       "1               1      3            0                   3        0      1   \n",
       "2               2      3            0                   3        0      1   \n",
       "3               3      3            0                   2        1      1   \n",
       "4               4      6            0                   6        0      1   \n",
       "...           ...    ...          ...                 ...      ...    ...   \n",
       "24778       25291      3            0                   2        1      1   \n",
       "24779       25292      3            0                   1        2      2   \n",
       "24780       25294      3            0                   3        0      1   \n",
       "24781       25295      6            0                   6        0      1   \n",
       "24782       25296      3            0                   0        3      2   \n",
       "\n",
       "                                                   tweet  \n",
       "0      !!! RT @mayasolovely: As a woman you shouldn't...  \n",
       "1      !!!!! RT @mleew17: boy dats cold...tyga dwn ba...  \n",
       "2      !!!!!!! RT @UrKindOfBrand Dawg!!!! RT @80sbaby...  \n",
       "3      !!!!!!!!! RT @C_G_Anderson: @viva_based she lo...  \n",
       "4      !!!!!!!!!!!!! RT @ShenikaRoberts: The shit you...  \n",
       "...                                                  ...  \n",
       "24778  you's a muthaf***in lie &#8220;@LifeAsKing: @2...  \n",
       "24779  you've gone and broke the wrong heart baby, an...  \n",
       "24780  young buck wanna eat!!.. dat nigguh like I ain...  \n",
       "24781              youu got wild bitches tellin you lies  \n",
       "24782  ~~Ruffled | Ntac Eileen Dahlia - Beautiful col...  \n",
       "\n",
       "[24783 rows x 7 columns]"
      ]
     },
     "execution_count": 4,
     "metadata": {},
     "output_type": "execute_result"
    }
   ],
   "source": [
    "df1 = pd.read_csv(\"TrainingData/labeled_data.csv\")\n",
    "df2 = pd.read_csv(\"TrainingData/HateSpeechDatasetBalanced.csv\").sample(n=3000,random_state=42)\n",
    "\n",
    "\n",
    "df1 = df1.dropna()\n",
    "df1 = df1.drop_duplicates()\n",
    "df1= df1.reset_index(drop=True)\n",
    "df1"
   ]
  },
  {
   "cell_type": "code",
   "execution_count": 40,
   "id": "f7d3481d",
   "metadata": {},
   "outputs": [
    {
     "data": {
      "application/vnd.microsoft.datawrangler.viewer.v0+json": {
       "columns": [
        {
         "name": "Label",
         "rawType": "int64",
         "type": "integer"
        },
        {
         "name": "count",
         "rawType": "int64",
         "type": "integer"
        }
       ],
       "ref": "f18e991b-937a-4282-aa48-0429eec7cd33",
       "rows": [
        [
         "0",
         "2600"
        ],
        [
         "1",
         "2330"
        ]
       ],
       "shape": {
        "columns": 1,
        "rows": 2
       }
      },
      "text/plain": [
       "Label\n",
       "0    2600\n",
       "1    2330\n",
       "Name: count, dtype: int64"
      ]
     },
     "execution_count": 40,
     "metadata": {},
     "output_type": "execute_result"
    }
   ],
   "source": [
    "hate = df1[df1['class'] == 0] #1430\n",
    "non_hate = df1[df1['class'] == 2].sample(n=2100, random_state=42)# 1200\n",
    "offensive = df1[df1['class'] == 1].sample(n=500, random_state=42) #600\n",
    "\n",
    "hate2 = df2[df2['Label'] == 1].sample(n=900, random_state=42) # 500\n",
    "\n",
    "df = pd.concat([hate, non_hate, offensive], axis=0)\n",
    "df = df.reset_index(drop=True)\n",
    "df['class']= df['class'].replace({0: 1, 1: 0, 2: 0})\n",
    "df['Content'] = df['tweet']\n",
    "df['Label'] = df['class']\n",
    "df = df[['Content', 'Label']]\n",
    "df = pd.concat([df, hate2], axis=0)\n",
    "df['Label'].value_counts()\n"
   ]
  },
  {
   "cell_type": "code",
   "execution_count": 41,
   "id": "00b53fe2",
   "metadata": {},
   "outputs": [
    {
     "name": "stdout",
     "output_type": "stream",
     "text": [
      "TF-IDF shape: (4930, 51582)\n",
      "[[474  46]\n",
      " [ 85 381]]\n",
      "              precision    recall  f1-score   support\n",
      "\n",
      "           0       0.85      0.91      0.88       520\n",
      "           1       0.89      0.82      0.85       466\n",
      "\n",
      "    accuracy                           0.87       986\n",
      "   macro avg       0.87      0.86      0.87       986\n",
      "weighted avg       0.87      0.87      0.87       986\n",
      "\n",
      "The tweet: ' stfu you piece of trash ' is permitted . Value:  0\n",
      "The tweet: ' Hope you're having a good day you cute piece of shit ' has been flagged for hate speech. . Value:  1\n",
      "The tweet: ' hello there ' has been flagged for hate speech. . Value:  1\n",
      "The tweet: ' today was fine ' is permitted . Value:  0\n"
     ]
    },
    {
     "data": {
      "application/vnd.microsoft.datawrangler.viewer.v0+json": {
       "columns": [
        {
         "name": "index",
         "rawType": "int64",
         "type": "integer"
        },
        {
         "name": "Content",
         "rawType": "object",
         "type": "string"
        },
        {
         "name": "Label",
         "rawType": "int64",
         "type": "integer"
        },
        {
         "name": "cleaned_tokens",
         "rawType": "object",
         "type": "unknown"
        },
        {
         "name": "tokenized_cleaned_text",
         "rawType": "object",
         "type": "string"
        }
       ],
       "ref": "c41db907-47c8-4ba5-b6fb-735d3e8e64fe",
       "rows": [
        [
         "0",
         "\"@Blackman38Tide: @WhaleLookyHere @HowdyDowdy11 queer\" gaywad",
         "1",
         "['WhaleLookyHere', 'queer', 'gaywad']",
         "WhaleLookyHere queer gaywad"
        ],
        [
         "1",
         "\"@CB_Baby24: @white_thunduh alsarabsss\" hes a beaner smh you can tell hes a mexican",
         "1",
         "['alsarabsss', 'he', 'beaner', 'smh', 'tell', 'he', 'mexican']",
         "alsarabsss he beaner smh tell he mexican"
        ],
        [
         "2",
         "\"@DevilGrimz: @VigxRArts you're fucking gay, blacklisted hoe\" Holding out for #TehGodClan anyway http://t.co/xUCcwoetmn",
         "1",
         "['DevilGrimz', 'VigxRArts', 'fucking', 'gay', 'blacklisted', 'hoe', 'Holding', 'TehGodClan', 'anyway', 'http']",
         "DevilGrimz VigxRArts fucking gay blacklisted hoe Holding TehGodClan anyway http"
        ],
        [
         "3",
         "\"@MarkRoundtreeJr: LMFAOOOO I HATE BLACK PEOPLE https://t.co/RNvD2nLCDR\" This is why there's black people and niggers",
         "1",
         "['MarkRoundtreeJr', 'LMFAOOOO', 'I', 'HATE', 'BLACK', 'PEOPLE', 'http', 'This', 'black', 'people', 'nigger']",
         "MarkRoundtreeJr LMFAOOOO I HATE BLACK PEOPLE http This black people nigger"
        ],
        [
         "4",
         "\"@NoChillPaz: \"At least I'm not a nigger\" http://t.co/RGJa7CfoiT\"\n\nLmfao",
         "1",
         "['NoChillPaz', 'At', 'least', 'I', 'nigger', 'http', 'Lmfao']",
         "NoChillPaz At least I nigger http Lmfao"
        ],
        [
         "5",
         "\"@NotoriousBM95: @_WhitePonyJr_ Ariza is a snake and a coward\" but at least he isn't a cripple like your hero Roach lmaoo",
         "1",
         "['Ariza', 'snake', 'coward', 'least', 'cripple', 'like', 'hero', 'Roach', 'lmaoo']",
         "Ariza snake coward least cripple like hero Roach lmaoo"
        ],
        [
         "6",
         "\"@RTNBA: Drakes new shoes that will be released by Nike/Jordan.... Yes, there's glitter on the shoes http://t.co/QCtPLxHEXM\" ....dudes a fag",
         "1",
         "['RTNBA', 'Drakes', 'new', 'shoe', 'released', 'Yes', 'glitter', 'shoe', 'http', 'dude', 'fag']",
         "RTNBA Drakes new shoe released Yes glitter shoe http dude fag"
        ],
        [
         "7",
         "\"@TheoMaxximus: #GerrysHalloweenParty http://t.co/3ycrSrnjHc\" Halloween was yesterday stupid nigger",
         "1",
         "['TheoMaxximus', 'GerrysHalloweenParty', 'http', 'Halloween', 'yesterday', 'stupid', 'nigger']",
         "TheoMaxximus GerrysHalloweenParty http Halloween yesterday stupid nigger"
        ],
        [
         "8",
         "\"@ashlingwilde: @ItsNotAdam is bored supposed to be cute, you faggot?\" Sometimes",
         "1",
         "['ashlingwilde', 'ItsNotAdam', 'bored', 'supposed', 'cute', 'faggot', 'Sometimes']",
         "ashlingwilde ItsNotAdam bored supposed cute faggot Sometimes"
        ],
        [
         "9",
         "\"@bigbootybishopp: @white_thunduh lassen cc , the coach wants me\" i feel it youll get more my nig no doubt",
         "1",
         "['bigbootybishopp', 'lassen', 'cc', 'coach', 'want', 'feel', 'youll', 'get', 'nig', 'doubt']",
         "bigbootybishopp lassen cc coach want feel youll get nig doubt"
        ],
        [
         "10",
         "\"@jayswaggkillah: Jackies a retard #blondeproblems\" At least I can make a grilled cheese!",
         "1",
         "['jayswaggkillah', 'Jackies', 'retard', 'blondeproblems', 'At', 'least', 'I', 'make', 'grilled', 'cheese']",
         "jayswaggkillah Jackies retard blondeproblems At least I make grilled cheese"
        ],
        [
         "11",
         "\"@jgabsss: Stacey Dash won &#128166; http://t.co/PDLG46rjOL\" baddest bitch evaaaa",
         "1",
         "['jgabsss', 'Stacey', 'Dash', 'http', 'baddest', 'bitch', 'evaaaa']",
         "jgabsss Stacey Dash http baddest bitch evaaaa"
        ],
        [
         "12",
         "\"Don't worry about the nigga you see, worry about the nigga you DON'T see... Dat's da nigga fuckin yo bitch.\"",
         "1",
         "['Do', 'worry', 'nigga', 'see', 'worry', 'nigga', 'DO', 'see', 'Dat', 'da', 'nigga', 'fuckin', 'yo', 'bitch']",
         "Do worry nigga see worry nigga DO see Dat da nigga fuckin yo bitch"
        ],
        [
         "13",
         "\"Hey go look at that video of the man that found the kidnapped girls in Ohio........what a nigger\" - #shitmybosssays",
         "1",
         "['Hey', 'go', 'look', 'video', 'man', 'found', 'kidnapped', 'girl', 'Ohio', 'nigger', 'shitmybosssays']",
         "Hey go look video man found kidnapped girl Ohio nigger shitmybosssays"
        ],
        [
         "14",
         "\"Let's kill cracker babies!\". WTF did I just hear???????? WOW.",
         "1",
         "['Let', 'kill', 'cracker', 'baby', 'WTF', 'I', 'hear', 'WOW']",
         "Let kill cracker baby WTF I hear WOW"
        ],
        [
         "15",
         "\"My grandma used to call me a porch monkey all the time... Come to think of it she did refer to a broken bottle as a nigger knife\" &#128563;",
         "1",
         "['My', 'grandma', 'used', 'call', 'porch', 'monkey', 'time', 'Come', 'think', 'refer', 'broken', 'bottle', 'nigger', 'knife']",
         "My grandma used call porch monkey time Come think refer broken bottle nigger knife"
        ],
        [
         "16",
         "\"Nah its You @NoMeek_JustMilz: &#128514;&#128514;&#128514;&#128514; yo i thought some1 photoshopped my face on that faggot smmfh...i hate yall\" http://t.co/5e2fkQ3Q2T",
         "1",
         "['Nah', 'You', 'yo', 'thought', 'photoshopped', 'face', 'faggot', 'smmfh', 'hate', 'yall', 'http']",
         "Nah You yo thought photoshopped face faggot smmfh hate yall http"
        ],
        [
         "17",
         "\"Our people\". Now is the time for the Aryan race 2 stand up and say \"no more\". Before the mongerls turn the world into a ghetto slum. 1488",
         "1",
         "['Our', 'people', 'Now', 'time', 'Aryan', 'race', 'stand', 'say', 'Before', 'mongerls', 'turn', 'world', 'ghetto', 'slum']",
         "Our people Now time Aryan race stand say Before mongerls turn world ghetto slum"
        ],
        [
         "18",
         "\"These sour apple bitter bitches, I'm not fuckin wit em\"",
         "1",
         "['These', 'sour', 'apple', 'bitter', 'bitch', 'I', 'fuckin', 'wit', 'em']",
         "These sour apple bitter bitch I fuckin wit em"
        ],
        [
         "19",
         "\"We hate niggers, we hate faggots and we hate spics\"-kkk rally",
         "1",
         "['We', 'hate', 'nigger', 'hate', 'faggot', 'hate', 'spic', 'rally']",
         "We hate nigger hate faggot hate spic rally"
        ],
        [
         "20",
         "\"We're out here, and we're queer!\"\n\" 2, 4, 6, hut! We like it in our butt!\"",
         "1",
         "['We', 'queer', 'hut', 'We', 'like', 'butt']",
         "We queer hut We like butt"
        ],
        [
         "21",
         "\"Who the fuck you callin jiggaboo, nigga?!\"",
         "1",
         "['Who', 'fuck', 'callin', 'jiggaboo', 'nigga']",
         "Who fuck callin jiggaboo nigga"
        ],
        [
         "22",
         "\"Why people think gay marriage is okay is beyond me. Sorry I don't want my future son seeing 2 fags walking down the street holding hands an",
         "1",
         "['Why', 'people', 'think', 'gay', 'marriage', 'okay', 'beyond', 'Sorry', 'I', 'want', 'future', 'son', 'seeing', 'fag', 'walking', 'street', 'holding', 'hand']",
         "Why people think gay marriage okay beyond Sorry I want future son seeing fag walking street holding hand"
        ],
        [
         "23",
         "\"You ain't gunna do shit spear chucker\"",
         "1",
         "['You', 'ai', 'gunna', 'shit', 'spear', 'chucker']",
         "You ai gunna shit spear chucker"
        ],
        [
         "24",
         "\"You ol trout mouth ass bitch\" \nDEEEEAAAADD",
         "1",
         "['You', 'ol', 'trout', 'mouth', 'as', 'bitch', 'DEEEEAAAADD']",
         "You ol trout mouth as bitch DEEEEAAAADD"
        ],
        [
         "25",
         "\"ayo i even kill handicapped and crippled bitches/look at my scalp real close and you'll see triple sixes\"",
         "1",
         "['ayo', 'even', 'kill', 'handicapped', 'crippled', 'scalp', 'real', 'close', 'see', 'triple', 'six']",
         "ayo even kill handicapped crippled scalp real close see triple six"
        ],
        [
         "26",
         "\"fuck you you pussy ass hater go suck a dick and die quick\" - Someone, to me, in Youtube comments. I think we'd be good friends.",
         "1",
         "['fuck', 'pussy', 'as', 'hater', 'go', 'suck', 'dick', 'die', 'quick', 'Someone', 'Youtube', 'comment', 'I', 'think', 'good', 'friend']",
         "fuck pussy as hater go suck dick die quick Someone Youtube comment I think good friend"
        ],
        [
         "27",
         "\"on my way to fuck your bitch in the name of The Lord\" - Mr. Race",
         "1",
         "['way', 'fuck', 'bitch', 'name', 'The', 'Lord', 'Race']",
         "way fuck bitch name The Lord Race"
        ],
        [
         "28",
         "\"poor whitey\" http://t.co/3UkKeyznz8",
         "1",
         "['poor', 'whitey', 'http']",
         "poor whitey http"
        ],
        [
         "29",
         "#AZmonsoon lot of rain, too bad it wasn't enough to wash away the teabagger racist white trash in the state. #Tcot #teaparty #azflooding",
         "1",
         "['AZmonsoon', 'lot', 'rain', 'bad', 'enough', 'wash', 'away', 'teabagger', 'racist', 'white', 'trash', 'state', 'Tcot', 'teaparty', 'azflooding']",
         "AZmonsoon lot rain bad enough wash away teabagger racist white trash state Tcot teaparty azflooding"
        ],
        [
         "30",
         "#California is full of white trash",
         "1",
         "['California', 'full', 'white', 'trash']",
         "California full white trash"
        ],
        [
         "31",
         "#California is full of white trash who moved from #Oklahoma",
         "1",
         "['California', 'full', 'white', 'trash', 'moved', 'Oklahoma']",
         "California full white trash moved Oklahoma"
        ],
        [
         "32",
         "#DTLA is trash because of non-Europeans are allowed to live there.",
         "1",
         "['DTLA', 'trash', 'allowed', 'live']",
         "DTLA trash allowed live"
        ],
        [
         "33",
         "#Dutch farmers are white trash.",
         "1",
         "['Dutch', 'farmer', 'white', 'trash']",
         "Dutch farmer white trash"
        ],
        [
         "34",
         "#Dutch people who live outside of #NewYorkCity are all white trash.",
         "1",
         "['Dutch', 'people', 'live', 'outside', 'NewYorkCity', 'white', 'trash']",
         "Dutch people live outside NewYorkCity white trash"
        ],
        [
         "35",
         "#Iowa is full of white trash",
         "1",
         "['Iowa', 'full', 'white', 'trash']",
         "Iowa full white trash"
        ],
        [
         "36",
         "#JesusChrist was STRAIGHT&gt; That's why the #faggots killed him. #PERIOD #SonOfGod&gt;",
         "1",
         "['JesusChrist', 'STRAIGHT', 'gt', 'That', 'faggot', 'killed', 'PERIOD', 'SonOfGod', 'gt']",
         "JesusChrist STRAIGHT gt That faggot killed PERIOD SonOfGod gt"
        ],
        [
         "37",
         "#Minnesota is full of white trash",
         "1",
         "['Minnesota', 'full', 'white', 'trash']",
         "Minnesota full white trash"
        ],
        [
         "38",
         "#ReasonsWeCantBeTogether if u was talkin to my nig or smashed da homies",
         "1",
         "['ReasonsWeCantBeTogether', 'u', 'talkin', 'nig', 'smashed', 'da', 'homies']",
         "ReasonsWeCantBeTogether u talkin nig smashed da homies"
        ],
        [
         "39",
         "#RebelScience ......is using an ACTUAL WOMAN as a genetic engineering lab for \"all natural clones\"..... or something...... #faggot #rome",
         "1",
         "['RebelScience', 'using', 'ACTUAL', 'WOMAN', 'genetic', 'engineering', 'lab', 'natural', 'clone', 'something', 'faggot', 'rome']",
         "RebelScience using ACTUAL WOMAN genetic engineering lab natural clone something faggot rome"
        ],
        [
         "40",
         "#SlightlyAdjusted RT @CapoToHeaven Alls niggers wanna do is fuck, tweet, and drink pineapple soda all day",
         "1",
         "['SlightlyAdjusted', 'RT', 'CapoToHeaven', 'Alls', 'nigger', 'wan', 'na', 'fuck', 'tweet', 'drink', 'pineapple', 'soda', 'day']",
         "SlightlyAdjusted RT CapoToHeaven Alls nigger wan na fuck tweet drink pineapple soda day"
        ],
        [
         "41",
         "#SomethingIGetAlot Are you... asian? black? Hawaiian? gay? retarded? drunk?",
         "1",
         "['SomethingIGetAlot', 'Are', 'asian', 'black', 'Hawaiian', 'gay', 'retarded', 'drunk']",
         "SomethingIGetAlot Are asian black Hawaiian gay retarded drunk"
        ],
        [
         "42",
         "#SouthCarolina is full of white trash",
         "1",
         "['SouthCarolina', 'full', 'white', 'trash']",
         "SouthCarolina full white trash"
        ],
        [
         "43",
         "#ThingsIWillTeachMyChild how to play deez niggas n bitches dat be snakes",
         "1",
         "['ThingsIWillTeachMyChild', 'play', 'deez', 'nigga', 'n', 'bitch', 'dat', 'snake']",
         "ThingsIWillTeachMyChild play deez nigga n bitch dat snake"
        ],
        [
         "44",
         "#TrayvonMartin referred to Zimmerman as a \"creepy ass cracker\". Racist thug.",
         "1",
         "['TrayvonMartin', 'referred', 'Zimmerman', 'creepy', 'as', 'cracker', 'Racist', 'thug']",
         "TrayvonMartin referred Zimmerman creepy as cracker Racist thug"
        ],
        [
         "45",
         "#TweetLikePontiacHolmes&#160;\nI do the Pontiac sprinkler...\n\nNigga nigga nigga nigga spic spic spic spic nigga nigga nigga nigga",
         "1",
         "['TweetLikePontiacHolmes', 'I', 'Pontiac', 'sprinkler', 'Nigga', 'nigga', 'nigga', 'nigga', 'spic', 'spic', 'spic', 'spic', 'nigga', 'nigga', 'nigga', 'nigga']",
         "TweetLikePontiacHolmes I Pontiac sprinkler Nigga nigga nigga nigga spic spic spic spic nigga nigga nigga nigga"
        ],
        [
         "46",
         "#VinitaHegwood can get a job at the naacp. Or as The AG. I hear they like \"diversity and tolerance\". As long as you ain't a cracker #tcot",
         "1",
         "['VinitaHegwood', 'get', 'job', 'naacp', 'Or', 'The', 'AG', 'I', 'hear', 'like', 'diversity', 'tolerance', 'As', 'long', 'ai', 'cracker', 'tcot']",
         "VinitaHegwood get job naacp Or The AG I hear like diversity tolerance As long ai cracker tcot"
        ],
        [
         "47",
         "#Virginia is full of white trash.",
         "1",
         "['Virginia', 'full', 'white', 'trash']",
         "Virginia full white trash"
        ],
        [
         "48",
         "#WestVirginia is full of white trash.",
         "1",
         "['WestVirginia', 'full', 'white', 'trash']",
         "WestVirginia full white trash"
        ],
        [
         "49",
         "#faggots are MERELY a #scientific indicator that SOMETHING IS WRONG&gt; Do not celebrate as \"unique indiviuals\" for they are #cancer&gt;",
         "1",
         "['faggot', 'MERELY', 'scientific', 'indicator', 'SOMETHING', 'IS', 'WRONG', 'gt', 'Do', 'celebrate', 'unique', 'indiviuals', 'cancer', 'gt']",
         "faggot MERELY scientific indicator SOMETHING IS WRONG gt Do celebrate unique indiviuals cancer gt"
        ]
       ],
       "shape": {
        "columns": 4,
        "rows": 4930
       }
      },
      "text/html": [
       "<div>\n",
       "<style scoped>\n",
       "    .dataframe tbody tr th:only-of-type {\n",
       "        vertical-align: middle;\n",
       "    }\n",
       "\n",
       "    .dataframe tbody tr th {\n",
       "        vertical-align: top;\n",
       "    }\n",
       "\n",
       "    .dataframe thead th {\n",
       "        text-align: right;\n",
       "    }\n",
       "</style>\n",
       "<table border=\"1\" class=\"dataframe\">\n",
       "  <thead>\n",
       "    <tr style=\"text-align: right;\">\n",
       "      <th></th>\n",
       "      <th>Content</th>\n",
       "      <th>Label</th>\n",
       "      <th>cleaned_tokens</th>\n",
       "      <th>tokenized_cleaned_text</th>\n",
       "    </tr>\n",
       "  </thead>\n",
       "  <tbody>\n",
       "    <tr>\n",
       "      <th>0</th>\n",
       "      <td>\"@Blackman38Tide: @WhaleLookyHere @HowdyDowdy1...</td>\n",
       "      <td>1</td>\n",
       "      <td>[WhaleLookyHere, queer, gaywad]</td>\n",
       "      <td>WhaleLookyHere queer gaywad</td>\n",
       "    </tr>\n",
       "    <tr>\n",
       "      <th>1</th>\n",
       "      <td>\"@CB_Baby24: @white_thunduh alsarabsss\" hes a ...</td>\n",
       "      <td>1</td>\n",
       "      <td>[alsarabsss, he, beaner, smh, tell, he, mexican]</td>\n",
       "      <td>alsarabsss he beaner smh tell he mexican</td>\n",
       "    </tr>\n",
       "    <tr>\n",
       "      <th>2</th>\n",
       "      <td>\"@DevilGrimz: @VigxRArts you're fucking gay, b...</td>\n",
       "      <td>1</td>\n",
       "      <td>[DevilGrimz, VigxRArts, fucking, gay, blacklis...</td>\n",
       "      <td>DevilGrimz VigxRArts fucking gay blacklisted h...</td>\n",
       "    </tr>\n",
       "    <tr>\n",
       "      <th>3</th>\n",
       "      <td>\"@MarkRoundtreeJr: LMFAOOOO I HATE BLACK PEOPL...</td>\n",
       "      <td>1</td>\n",
       "      <td>[MarkRoundtreeJr, LMFAOOOO, I, HATE, BLACK, PE...</td>\n",
       "      <td>MarkRoundtreeJr LMFAOOOO I HATE BLACK PEOPLE h...</td>\n",
       "    </tr>\n",
       "    <tr>\n",
       "      <th>4</th>\n",
       "      <td>\"@NoChillPaz: \"At least I'm not a nigger\" http...</td>\n",
       "      <td>1</td>\n",
       "      <td>[NoChillPaz, At, least, I, nigger, http, Lmfao]</td>\n",
       "      <td>NoChillPaz At least I nigger http Lmfao</td>\n",
       "    </tr>\n",
       "    <tr>\n",
       "      <th>...</th>\n",
       "      <td>...</td>\n",
       "      <td>...</td>\n",
       "      <td>...</td>\n",
       "      <td>...</td>\n",
       "    </tr>\n",
       "    <tr>\n",
       "      <th>710738</th>\n",
       "      <td>and do non delete things from my talk asshole</td>\n",
       "      <td>1</td>\n",
       "      <td>[non, delete, thing, talk, asshole]</td>\n",
       "      <td>non delete thing talk asshole</td>\n",
       "    </tr>\n",
       "    <tr>\n",
       "      <th>97844</th>\n",
       "      <td>being gay is a fate worse than death</td>\n",
       "      <td>1</td>\n",
       "      <td>[gay, fate, worse, death]</td>\n",
       "      <td>gay fate worse death</td>\n",
       "    </tr>\n",
       "    <tr>\n",
       "      <th>712804</th>\n",
       "      <td>deaf to norwegians and all manner semitic acts...</td>\n",
       "      <td>1</td>\n",
       "      <td>[deaf, norwegian, manner, semitic, act, collab...</td>\n",
       "      <td>deaf norwegian manner semitic act collaborated...</td>\n",
       "    </tr>\n",
       "    <tr>\n",
       "      <th>715360</th>\n",
       "      <td>when having been easy for liberals through the...</td>\n",
       "      <td>1</td>\n",
       "      <td>[easy, liberal, obama, administration, liberal...</td>\n",
       "      <td>easy liberal obama administration liberal scre...</td>\n",
       "    </tr>\n",
       "    <tr>\n",
       "      <th>672116</th>\n",
       "      <td>did it has sum words but i dare to squeeze the...</td>\n",
       "      <td>1</td>\n",
       "      <td>[sum, word, dare, squeeze, melon]</td>\n",
       "      <td>sum word dare squeeze melon</td>\n",
       "    </tr>\n",
       "  </tbody>\n",
       "</table>\n",
       "<p>4930 rows × 4 columns</p>\n",
       "</div>"
      ],
      "text/plain": [
       "                                                  Content  Label  \\\n",
       "0       \"@Blackman38Tide: @WhaleLookyHere @HowdyDowdy1...      1   \n",
       "1       \"@CB_Baby24: @white_thunduh alsarabsss\" hes a ...      1   \n",
       "2       \"@DevilGrimz: @VigxRArts you're fucking gay, b...      1   \n",
       "3       \"@MarkRoundtreeJr: LMFAOOOO I HATE BLACK PEOPL...      1   \n",
       "4       \"@NoChillPaz: \"At least I'm not a nigger\" http...      1   \n",
       "...                                                   ...    ...   \n",
       "710738      and do non delete things from my talk asshole      1   \n",
       "97844                being gay is a fate worse than death      1   \n",
       "712804  deaf to norwegians and all manner semitic acts...      1   \n",
       "715360  when having been easy for liberals through the...      1   \n",
       "672116  did it has sum words but i dare to squeeze the...      1   \n",
       "\n",
       "                                           cleaned_tokens  \\\n",
       "0                         [WhaleLookyHere, queer, gaywad]   \n",
       "1        [alsarabsss, he, beaner, smh, tell, he, mexican]   \n",
       "2       [DevilGrimz, VigxRArts, fucking, gay, blacklis...   \n",
       "3       [MarkRoundtreeJr, LMFAOOOO, I, HATE, BLACK, PE...   \n",
       "4         [NoChillPaz, At, least, I, nigger, http, Lmfao]   \n",
       "...                                                   ...   \n",
       "710738                [non, delete, thing, talk, asshole]   \n",
       "97844                           [gay, fate, worse, death]   \n",
       "712804  [deaf, norwegian, manner, semitic, act, collab...   \n",
       "715360  [easy, liberal, obama, administration, liberal...   \n",
       "672116                  [sum, word, dare, squeeze, melon]   \n",
       "\n",
       "                                   tokenized_cleaned_text  \n",
       "0                             WhaleLookyHere queer gaywad  \n",
       "1                alsarabsss he beaner smh tell he mexican  \n",
       "2       DevilGrimz VigxRArts fucking gay blacklisted h...  \n",
       "3       MarkRoundtreeJr LMFAOOOO I HATE BLACK PEOPLE h...  \n",
       "4                 NoChillPaz At least I nigger http Lmfao  \n",
       "...                                                   ...  \n",
       "710738                      non delete thing talk asshole  \n",
       "97844                                gay fate worse death  \n",
       "712804  deaf norwegian manner semitic act collaborated...  \n",
       "715360  easy liberal obama administration liberal scre...  \n",
       "672116                        sum word dare squeeze melon  \n",
       "\n",
       "[4930 rows x 4 columns]"
      ]
     },
     "execution_count": 41,
     "metadata": {},
     "output_type": "execute_result"
    }
   ],
   "source": [
    "training_data_df = df.copy()\n",
    "# training_data_df['Label'] = training_data_df['class']\n",
    "# training_data_df['Content'] = training_data_df['tweet'].astype(str)\n",
    "training_data_df = training_data_df[['Content', 'Label']]\n",
    "lemmatizer = WordNetLemmatizer()\n",
    "stop_words = set(stopwords.words('english')) #stopwords\n",
    "\n",
    "def clean_tokenize(text):\n",
    "    tokens = word_tokenize(text)  # splits into words and keeps contractions\n",
    "    tokens = [t for t in tokens if t.isalpha()]  # keep only alphabetic tokens\n",
    "    tokens = [t for t in tokens if t != \"rt\" and t not in stop_words]  # remove 'rt' and stopwords\n",
    "    lemmatized = [lemmatizer.lemmatize(t) for t in tokens]\n",
    "    return lemmatized\n",
    "\n",
    "\n",
    "training_data_df['cleaned_tokens'] = training_data_df['Content'].apply(clean_tokenize)\n",
    "training_data_df['tokenized_cleaned_text'] = training_data_df['cleaned_tokens'].apply(lambda x: ' '.join(x))\n",
    "training_data_df['tokenized_cleaned_text'] = training_data_df['tokenized_cleaned_text'].fillna('')\n",
    "\n",
    "# print(training_data_df.head())\n",
    "\n",
    "tfidf = TfidfVectorizer(ngram_range=(1,2))      # playing around with ngram_range, might go up to 3\n",
    "\n",
    "X = tfidf.fit_transform(training_data_df['tokenized_cleaned_text'])  # Features\n",
    "y = training_data_df['Label']  # Target labels\n",
    "\n",
    "print(\"TF-IDF shape:\", X.shape)\n",
    "# print(tfidf.get_feature_names_out()[:100])\n",
    "\n",
    "\n",
    "# SVM training\n",
    "X_train, X_test, y_train, y_test = train_test_split(X, y, test_size=0.2, random_state=42, stratify=y, shuffle=True)\n",
    "model = LinearSVC(C=1)\n",
    "model.fit(X_train, y_train)\n",
    "\n",
    "y_pred = model.predict(X_test)\n",
    "\n",
    "print(confusion_matrix(y_test, y_pred))\n",
    "print(classification_report(y_test, y_pred))\n",
    "\n",
    "legend = {0: \"' is permitted\", 1: \"' has been flagged for hate speech.\"}\n",
    "\n",
    "\n",
    "def moderate(tweet):\n",
    "    tweet_clean = \" \".join(clean_tokenize(tweet))\n",
    "    tweet_vec = tfidf.transform([tweet_clean])\n",
    "    pred = model.predict(tweet_vec)[0]\n",
    "    print(\"The tweet: '\",tweet,legend[pred],\". Value: \",pred)\n",
    "    \n",
    "    \n",
    "moderate(\"stfu you piece of trash\")  # 1\n",
    "moderate(\"Hope you're having a good day you cute piece of shit\")  # 0\n",
    "moderate(\"hello there\")\n",
    "moderate(\"today was fine\")\n",
    "\n",
    "training_data_df"
   ]
  },
  {
   "cell_type": "code",
   "execution_count": 42,
   "id": "348c6b0c",
   "metadata": {},
   "outputs": [
    {
     "name": "stderr",
     "output_type": "stream",
     "text": [
      "/opt/anaconda3/lib/python3.12/site-packages/keras/src/layers/core/embedding.py:97: UserWarning: Argument `input_length` is deprecated. Just remove it.\n",
      "  warnings.warn(\n"
     ]
    },
    {
     "data": {
      "text/html": [
       "<pre style=\"white-space:pre;overflow-x:auto;line-height:normal;font-family:Menlo,'DejaVu Sans Mono',consolas,'Courier New',monospace\"><span style=\"font-weight: bold\">Model: \"sequential_10\"</span>\n",
       "</pre>\n"
      ],
      "text/plain": [
       "\u001b[1mModel: \"sequential_10\"\u001b[0m\n"
      ]
     },
     "metadata": {},
     "output_type": "display_data"
    },
    {
     "data": {
      "text/html": [
       "<pre style=\"white-space:pre;overflow-x:auto;line-height:normal;font-family:Menlo,'DejaVu Sans Mono',consolas,'Courier New',monospace\">┏━━━━━━━━━━━━━━━━━━━━━━━━━━━━━━━━━┳━━━━━━━━━━━━━━━━━━━━━━━━┳━━━━━━━━━━━━━━━┓\n",
       "┃<span style=\"font-weight: bold\"> Layer (type)                    </span>┃<span style=\"font-weight: bold\"> Output Shape           </span>┃<span style=\"font-weight: bold\">       Param # </span>┃\n",
       "┡━━━━━━━━━━━━━━━━━━━━━━━━━━━━━━━━━╇━━━━━━━━━━━━━━━━━━━━━━━━╇━━━━━━━━━━━━━━━┩\n",
       "│ embedding_10 (<span style=\"color: #0087ff; text-decoration-color: #0087ff\">Embedding</span>)        │ ?                      │   <span style=\"color: #00af00; text-decoration-color: #00af00\">0</span> (unbuilt) │\n",
       "├─────────────────────────────────┼────────────────────────┼───────────────┤\n",
       "│ bidirectional_10                │ ?                      │   <span style=\"color: #00af00; text-decoration-color: #00af00\">0</span> (unbuilt) │\n",
       "│ (<span style=\"color: #0087ff; text-decoration-color: #0087ff\">Bidirectional</span>)                 │                        │               │\n",
       "├─────────────────────────────────┼────────────────────────┼───────────────┤\n",
       "│ dropout_10 (<span style=\"color: #0087ff; text-decoration-color: #0087ff\">Dropout</span>)            │ ?                      │             <span style=\"color: #00af00; text-decoration-color: #00af00\">0</span> │\n",
       "├─────────────────────────────────┼────────────────────────┼───────────────┤\n",
       "│ dense_16 (<span style=\"color: #0087ff; text-decoration-color: #0087ff\">Dense</span>)                │ ?                      │   <span style=\"color: #00af00; text-decoration-color: #00af00\">0</span> (unbuilt) │\n",
       "└─────────────────────────────────┴────────────────────────┴───────────────┘\n",
       "</pre>\n"
      ],
      "text/plain": [
       "┏━━━━━━━━━━━━━━━━━━━━━━━━━━━━━━━━━┳━━━━━━━━━━━━━━━━━━━━━━━━┳━━━━━━━━━━━━━━━┓\n",
       "┃\u001b[1m \u001b[0m\u001b[1mLayer (type)                   \u001b[0m\u001b[1m \u001b[0m┃\u001b[1m \u001b[0m\u001b[1mOutput Shape          \u001b[0m\u001b[1m \u001b[0m┃\u001b[1m \u001b[0m\u001b[1m      Param #\u001b[0m\u001b[1m \u001b[0m┃\n",
       "┡━━━━━━━━━━━━━━━━━━━━━━━━━━━━━━━━━╇━━━━━━━━━━━━━━━━━━━━━━━━╇━━━━━━━━━━━━━━━┩\n",
       "│ embedding_10 (\u001b[38;5;33mEmbedding\u001b[0m)        │ ?                      │   \u001b[38;5;34m0\u001b[0m (unbuilt) │\n",
       "├─────────────────────────────────┼────────────────────────┼───────────────┤\n",
       "│ bidirectional_10                │ ?                      │   \u001b[38;5;34m0\u001b[0m (unbuilt) │\n",
       "│ (\u001b[38;5;33mBidirectional\u001b[0m)                 │                        │               │\n",
       "├─────────────────────────────────┼────────────────────────┼───────────────┤\n",
       "│ dropout_10 (\u001b[38;5;33mDropout\u001b[0m)            │ ?                      │             \u001b[38;5;34m0\u001b[0m │\n",
       "├─────────────────────────────────┼────────────────────────┼───────────────┤\n",
       "│ dense_16 (\u001b[38;5;33mDense\u001b[0m)                │ ?                      │   \u001b[38;5;34m0\u001b[0m (unbuilt) │\n",
       "└─────────────────────────────────┴────────────────────────┴───────────────┘\n"
      ]
     },
     "metadata": {},
     "output_type": "display_data"
    },
    {
     "data": {
      "text/html": [
       "<pre style=\"white-space:pre;overflow-x:auto;line-height:normal;font-family:Menlo,'DejaVu Sans Mono',consolas,'Courier New',monospace\"><span style=\"font-weight: bold\"> Total params: </span><span style=\"color: #00af00; text-decoration-color: #00af00\">0</span> (0.00 B)\n",
       "</pre>\n"
      ],
      "text/plain": [
       "\u001b[1m Total params: \u001b[0m\u001b[38;5;34m0\u001b[0m (0.00 B)\n"
      ]
     },
     "metadata": {},
     "output_type": "display_data"
    },
    {
     "data": {
      "text/html": [
       "<pre style=\"white-space:pre;overflow-x:auto;line-height:normal;font-family:Menlo,'DejaVu Sans Mono',consolas,'Courier New',monospace\"><span style=\"font-weight: bold\"> Trainable params: </span><span style=\"color: #00af00; text-decoration-color: #00af00\">0</span> (0.00 B)\n",
       "</pre>\n"
      ],
      "text/plain": [
       "\u001b[1m Trainable params: \u001b[0m\u001b[38;5;34m0\u001b[0m (0.00 B)\n"
      ]
     },
     "metadata": {},
     "output_type": "display_data"
    },
    {
     "data": {
      "text/html": [
       "<pre style=\"white-space:pre;overflow-x:auto;line-height:normal;font-family:Menlo,'DejaVu Sans Mono',consolas,'Courier New',monospace\"><span style=\"font-weight: bold\"> Non-trainable params: </span><span style=\"color: #00af00; text-decoration-color: #00af00\">0</span> (0.00 B)\n",
       "</pre>\n"
      ],
      "text/plain": [
       "\u001b[1m Non-trainable params: \u001b[0m\u001b[38;5;34m0\u001b[0m (0.00 B)\n"
      ]
     },
     "metadata": {},
     "output_type": "display_data"
    },
    {
     "name": "stdout",
     "output_type": "stream",
     "text": [
      "Epoch 1/5\n",
      "\u001b[1m56/56\u001b[0m \u001b[32m━━━━━━━━━━━━━━━━━━━━\u001b[0m\u001b[37m\u001b[0m \u001b[1m2s\u001b[0m 16ms/step - accuracy: 0.5452 - loss: 0.6872 - val_accuracy: 0.6329 - val_loss: 0.6136\n",
      "Epoch 2/5\n",
      "\u001b[1m56/56\u001b[0m \u001b[32m━━━━━━━━━━━━━━━━━━━━\u001b[0m\u001b[37m\u001b[0m \u001b[1m1s\u001b[0m 16ms/step - accuracy: 0.7359 - loss: 0.5636 - val_accuracy: 0.7367 - val_loss: 0.5520\n",
      "Epoch 3/5\n",
      "\u001b[1m56/56\u001b[0m \u001b[32m━━━━━━━━━━━━━━━━━━━━\u001b[0m\u001b[37m\u001b[0m \u001b[1m1s\u001b[0m 22ms/step - accuracy: 0.8015 - loss: 0.4772 - val_accuracy: 0.7873 - val_loss: 0.4638\n",
      "Epoch 4/5\n",
      "\u001b[1m56/56\u001b[0m \u001b[32m━━━━━━━━━━━━━━━━━━━━\u001b[0m\u001b[37m\u001b[0m \u001b[1m1s\u001b[0m 21ms/step - accuracy: 0.8759 - loss: 0.3182 - val_accuracy: 0.8203 - val_loss: 0.3953\n",
      "Epoch 5/5\n",
      "\u001b[1m56/56\u001b[0m \u001b[32m━━━━━━━━━━━━━━━━━━━━\u001b[0m\u001b[37m\u001b[0m \u001b[1m1s\u001b[0m 22ms/step - accuracy: 0.9210 - loss: 0.2170 - val_accuracy: 0.8253 - val_loss: 0.3771\n",
      "\u001b[1m31/31\u001b[0m \u001b[32m━━━━━━━━━━━━━━━━━━━━\u001b[0m\u001b[37m\u001b[0m \u001b[1m0s\u001b[0m 7ms/step\n",
      "              precision    recall  f1-score   support\n",
      "\n",
      "           0       0.78      0.93      0.85       520\n",
      "           1       0.91      0.71      0.80       466\n",
      "\n",
      "    accuracy                           0.83       986\n",
      "   macro avg       0.84      0.82      0.82       986\n",
      "weighted avg       0.84      0.83      0.83       986\n",
      "\n",
      "[[486  34]\n",
      " [135 331]]\n"
     ]
    }
   ],
   "source": [
    "def clean_for_lstm(text):\n",
    "    text = re.sub(r'(rt)?\\s?@\\w+:?', '', text)\n",
    "    text = re.sub(r'http\\S+', '', text)\n",
    "    text = re.sub(r'[^A-Za-z\\'\\s]', '', text)\n",
    "\n",
    "    #remove \"rt\"\n",
    "    text = re.sub(r'RT', '', text)\n",
    "    return text.lower().strip()\n",
    "\n",
    "# clean_tweet = tweet_column.str.replace(r'(rt)?\\s?@\\w+:?', ' ', regex=True).str.replace(r'http.+', ' ', regex=True).str.replace(r'\\W+', ' ', regex=True)\n",
    "training_data_df['cleaned_text'] = training_data_df['Content'].apply(clean_for_lstm)\n",
    "training_data_df.head()\n",
    "\n",
    "\n",
    "\n",
    "\n",
    "# LSTM requires sequences of integers, NOT vectors\n",
    "texts = training_data_df['cleaned_text'].values\n",
    "labels = training_data_df['Label'].values\n",
    "\n",
    "# Tokenize\n",
    "tokenizer = Tokenizer(num_words=10000, oov_token=\"<OOV>\")\n",
    "tokenizer.fit_on_texts(texts)\n",
    "\n",
    "sequences = tokenizer.texts_to_sequences(texts)\n",
    "padded_sequences = pad_sequences(sequences, padding='post', maxlen=50)  # 50 = max length\n",
    "\n",
    "X_train, X_test, y_train, y_test = train_test_split(padded_sequences, labels, test_size=0.2, random_state=42, stratify=labels)\n",
    "# model = Sequential([\n",
    "#     Embedding(input_dim=10000, output_dim=64, input_length=50),\n",
    "#     Bidirectional(LSTM(64, return_sequences=False)),\n",
    "#     Dropout(0.5),\n",
    "#     #Dense(16, activation='softmax'),\n",
    "#     Dense(4, activation='relu'),\n",
    "#     # Dense(4, activation='softmax'),\n",
    "#     Dense(1, activation='sigmoid')\n",
    "# ])\n",
    "model = Sequential([\n",
    "    Embedding(input_dim=10000, output_dim=32, input_length=50),\n",
    "    Bidirectional(LSTM(32, return_sequences=False)),\n",
    "    Dropout(0.3),\n",
    "    Dense(1, activation='sigmoid')\n",
    "])\n",
    "\n",
    "model.compile(loss='binary_crossentropy',\n",
    "              optimizer='adam',\n",
    "              metrics=['accuracy'])\n",
    "\n",
    "model.summary()\n",
    "\n",
    "history = model.fit(X_train, y_train,\n",
    "                    epochs=5, # 7 epochs: 77% , 5 epochs had 77% accuracy, 3 epochs has 79%\n",
    "                    batch_size=64,\n",
    "                    validation_split=0.1)\n",
    "\n",
    "y_pred = (model.predict(X_test) > 0.5).astype(\"int32\")\n",
    "print(classification_report(y_test, y_pred))\n",
    "print(confusion_matrix(y_test, y_pred))\n",
    "\n",
    "\n",
    "legend = {0: \"' is permitted\", 1: \"' has been flagged for hate speech.\"}\n",
    "\n",
    "def moderate_lstm(tweet):\n",
    "    cleaned = clean_for_lstm(tweet)\n",
    "    print(cleaned)\n",
    "    seq = tokenizer.texts_to_sequences([cleaned])\n",
    "    padded = pad_sequences(seq, padding='post', maxlen=50)\n",
    "    pred = model.predict(padded)[0][0]\n",
    "    xx = lambda x : 1 if x > 0.7 else 0\n",
    "    print('The tweet: \"',tweet,legend[xx(pred)], \". Value: \",pred )\n",
    "    return 1 if pred > 0.7 else 0\n",
    "\n"
   ]
  },
  {
   "cell_type": "code",
   "execution_count": 43,
   "id": "1a434c56",
   "metadata": {},
   "outputs": [
    {
     "name": "stdout",
     "output_type": "stream",
     "text": [
      "hello there\n",
      "\u001b[1m1/1\u001b[0m \u001b[32m━━━━━━━━━━━━━━━━━━━━\u001b[0m\u001b[37m\u001b[0m \u001b[1m0s\u001b[0m 31ms/step\n",
      "The tweet: \" hello there ' is permitted . Value:  0.069783695\n",
      "today was fine\n",
      "\u001b[1m1/1\u001b[0m \u001b[32m━━━━━━━━━━━━━━━━━━━━\u001b[0m\u001b[37m\u001b[0m \u001b[1m0s\u001b[0m 21ms/step\n",
      "The tweet: \" today was fine ' is permitted . Value:  0.052633047\n",
      "twirl\n",
      "\u001b[1m1/1\u001b[0m \u001b[32m━━━━━━━━━━━━━━━━━━━━\u001b[0m\u001b[37m\u001b[0m \u001b[1m0s\u001b[0m 20ms/step\n",
      "The tweet: \" twirl ' has been flagged for hate speech. . Value:  0.76038206\n",
      "stfu you piece of trash\n",
      "\u001b[1m1/1\u001b[0m \u001b[32m━━━━━━━━━━━━━━━━━━━━\u001b[0m\u001b[37m\u001b[0m \u001b[1m0s\u001b[0m 21ms/step\n",
      "The tweet: \" stfu you piece of trash ' is permitted . Value:  0.3456063\n",
      "hope you're having a good day you cute piece of shity\n",
      "\u001b[1m1/1\u001b[0m \u001b[32m━━━━━━━━━━━━━━━━━━━━\u001b[0m\u001b[37m\u001b[0m \u001b[1m0s\u001b[0m 21ms/step\n",
      "The tweet: \" Hope you're having a good day you cute piece of shity ' has been flagged for hate speech. . Value:  0.99445087\n",
      "i love you\n",
      "\u001b[1m1/1\u001b[0m \u001b[32m━━━━━━━━━━━━━━━━━━━━\u001b[0m\u001b[37m\u001b[0m \u001b[1m0s\u001b[0m 22ms/step\n",
      "The tweet: \" I love you ' is permitted . Value:  0.08799138\n",
      "i hate you\n",
      "\u001b[1m1/1\u001b[0m \u001b[32m━━━━━━━━━━━━━━━━━━━━\u001b[0m\u001b[37m\u001b[0m \u001b[1m0s\u001b[0m 20ms/step\n",
      "The tweet: \" I hate you ' is permitted . Value:  0.28928092\n",
      "i hate it here\n",
      "\u001b[1m1/1\u001b[0m \u001b[32m━━━━━━━━━━━━━━━━━━━━\u001b[0m\u001b[37m\u001b[0m \u001b[1m0s\u001b[0m 20ms/step\n",
      "The tweet: \" I hate it here ' is permitted . Value:  0.469708\n",
      "women shouldnt vote\n",
      "\u001b[1m1/1\u001b[0m \u001b[32m━━━━━━━━━━━━━━━━━━━━\u001b[0m\u001b[37m\u001b[0m \u001b[1m0s\u001b[0m 21ms/step\n",
      "The tweet: \" women shouldnt vote ' is permitted . Value:  0.2413898\n",
      "yellow people are useless\n",
      "\u001b[1m1/1\u001b[0m \u001b[32m━━━━━━━━━━━━━━━━━━━━\u001b[0m\u001b[37m\u001b[0m \u001b[1m0s\u001b[0m 21ms/step\n",
      "The tweet: \" yellow people are useless ' is permitted . Value:  0.10689379\n"
     ]
    },
    {
     "data": {
      "text/plain": [
       "0"
      ]
     },
     "execution_count": 43,
     "metadata": {},
     "output_type": "execute_result"
    }
   ],
   "source": [
    "moderate_lstm(\"hello there\")\n",
    "moderate_lstm(\"today was fine\")\n",
    "moderate_lstm(\"twirl\")\n",
    "moderate_lstm(\"stfu you piece of trash\")  # 1\n",
    "moderate_lstm(\"Hope you're having a good day you cute piece of shity\")\n",
    "moderate_lstm(\"I love you\")\n",
    "moderate_lstm(\"I hate you\")\n",
    "moderate_lstm(\"I hate it here\")\n",
    "moderate_lstm(\"women shouldnt vote\")\n",
    "moderate_lstm(\"yellow people are useless\")"
   ]
  },
  {
   "cell_type": "code",
   "execution_count": 44,
   "id": "1c121a3f",
   "metadata": {},
   "outputs": [
    {
     "name": "stdout",
     "output_type": "stream",
     "text": [
      "\u001b[1m22692/22692\u001b[0m \u001b[32m━━━━━━━━━━━━━━━━━━━━\u001b[0m\u001b[37m\u001b[0m \u001b[1m78s\u001b[0m 3ms/step\n"
     ]
    }
   ],
   "source": [
    "\n",
    "from keras.preprocessing.sequence import pad_sequences\n",
    "\n",
    "noisy_df = pd.read_csv(\"TrainingData/HateSpeechDatasetBalanced.csv\")\n",
    "# Clean the text\n",
    "noisy_df['cleaned'] = noisy_df['Content'].apply(clean_for_lstm)\n",
    "\n",
    "# Tokenize and pad\n",
    "sequences = tokenizer.texts_to_sequences(noisy_df['cleaned'])\n",
    "padded = pad_sequences(sequences, maxlen=50, padding='post')\n",
    "\n",
    "# Predict probabilities\n",
    "probs = model.predict(padded).flatten()\n",
    "\n",
    "# Create prediction labels based on thresholds\n",
    "noisy_df['pred_prob'] = probs\n",
    "noisy_df['predicted_label'] = np.where(probs > 0.8, 1,\n",
    "                              np.where(probs < 0.2, 0, -1))  # -1 = unsure\n",
    "\n",
    "# Filter to high-confidence only\n",
    "confident_df = noisy_df[noisy_df['predicted_label'] != -1].copy()\n"
   ]
  },
  {
   "cell_type": "code",
   "execution_count": null,
   "id": "0d3db9f2",
   "metadata": {},
   "outputs": [],
   "source": [
    "confident_df"
   ]
  },
  {
   "cell_type": "code",
   "execution_count": 51,
   "id": "9cf46e86",
   "metadata": {},
   "outputs": [],
   "source": [
    "confident_df\n",
    "\n",
    "#filter out df so that labeled hate speech is predicted with 98% accuracy and both label and predicted labbel are 1\n",
    "hate_df = confident_df[confident_df['predicted_label'] == 1]\n",
    "hate_df = hate_df[hate_df['Label'] == 1]\n",
    "hate_df = hate_df[hate_df['pred_prob'] > 0.977].sample(n=16000, random_state=4)\n",
    "\n",
    "nonhate_df = confident_df[confident_df['predicted_label'] == 0]\n",
    "nonhate_df = nonhate_df[nonhate_df['Label'] == 0]\n",
    "nonhate_df = nonhate_df[nonhate_df['pred_prob'] < 0.067]\n",
    "\n",
    "combined_df = pd.concat([hate_df, nonhate_df], axis=0)\n",
    "combined_df.to_csv(\"TrainingData/combined_df_2.csv\", index=False)\n",
    "\n"
   ]
  },
  {
   "cell_type": "code",
   "execution_count": null,
   "id": "bc0de716",
   "metadata": {},
   "outputs": [
    {
     "data": {
      "application/vnd.microsoft.datawrangler.viewer.v0+json": {
       "columns": [
        {
         "name": "index",
         "rawType": "int64",
         "type": "integer"
        },
        {
         "name": "Content",
         "rawType": "object",
         "type": "string"
        },
        {
         "name": "Label",
         "rawType": "int64",
         "type": "integer"
        },
        {
         "name": "cleaned",
         "rawType": "object",
         "type": "string"
        },
        {
         "name": "pred_prob",
         "rawType": "float32",
         "type": "float"
        },
        {
         "name": "predicted_label",
         "rawType": "int64",
         "type": "integer"
        }
       ],
       "ref": "c9bd5b79-3672-4fff-8449-df2ee881c89a",
       "rows": [
        [
         "529",
         "now with over downloads",
         "0",
         "now with over downloads",
         "0.05393419",
         "0"
        ],
        [
         "764",
         "i had actually written the post for last summer but had to cancel my trip so it is okay every body cool l shane",
         "0",
         "i had actually written the post for last summer but had to cancel my trip so it is okay every body cool l shane",
         "0.037017997",
         "0"
        ],
        [
         "1088",
         "hungry horse see falls",
         "0",
         "hungry horse see falls",
         "0.053767357",
         "0"
        ],
        [
         "1149",
         "nothing yet eh",
         "0",
         "nothing yet eh",
         "0.046161644",
         "0"
        ],
        [
         "1216",
         "red hot and smoking",
         "0",
         "red hot and smoking",
         "0.055901352",
         "0"
        ],
        [
         "1230",
         "a paper plate",
         "0",
         "a paper plate",
         "0.05329497",
         "0"
        ],
        [
         "1261",
         "nothing happened except i got an on the paper",
         "0",
         "nothing happened except i got an on the paper",
         "0.038316935",
         "0"
        ],
        [
         "1300",
         "i swear i would get a tee shirt with this on it and wear it to school",
         "0",
         "i swear i would get a tee shirt with this on it and wear it to school",
         "0.051606614",
         "0"
        ],
        [
         "1354",
         "except peanut butter",
         "0",
         "except peanut butter",
         "0.042180166",
         "0"
        ],
        [
         "1356",
         "i like the french",
         "0",
         "i like the french",
         "0.053268135",
         "0"
        ],
        [
         "1376",
         "if kids come by they get it",
         "0",
         "if kids come by they get it",
         "0.05591292",
         "0"
        ],
        [
         "1377",
         "i am giving the whole bag to the kids across the street",
         "0",
         "i am giving the whole bag to the kids across the street",
         "0.055643275",
         "0"
        ],
        [
         "1393",
         "great gun though",
         "0",
         "great gun though",
         "0.03496392",
         "0"
        ],
        [
         "1413",
         "thanks for the share",
         "0",
         "thanks for the share",
         "0.046647858",
         "0"
        ],
        [
         "1496",
         "i have light brown hair and light brown eyes like my father",
         "0",
         "i have light brown hair and light brown eyes like my father",
         "0.04240014",
         "0"
        ],
        [
         "1844",
         "i had an irish boyfriend for years once and he used to laugh about how in ireland you never saw black people i guess things have changed a lot in odd years",
         "0",
         "i had an irish boyfriend for years once and he used to laugh about how in ireland you never saw black people i guess things have changed a lot in odd years",
         "0.047508344",
         "0"
        ],
        [
         "1915",
         "best thing to do is go along to a blood and honor gig there is one in london in weeks",
         "0",
         "best thing to do is go along to a blood and honor gig there is one in london in weeks",
         "0.050069306",
         "0"
        ],
        [
         "1979",
         "feel free to join",
         "0",
         "feel free to join",
         "0.041738458",
         "0"
        ],
        [
         "2012",
         "hey frank if i was not on the other side of the planet would i do",
         "0",
         "hey frank if i was not on the other side of the planet would i do",
         "0.054797076",
         "0"
        ],
        [
         "2071",
         "the last time i heard of anyone beating anyone up is when the guys down in miami from actor were arrested for doing there duty",
         "0",
         "the last time i heard of anyone beating anyone up is when the guys down in miami from actor were arrested for doing there duty",
         "0.044606898",
         "0"
        ],
        [
         "2096",
         "no pictures yet",
         "0",
         "no pictures yet",
         "0.038482003",
         "0"
        ],
        [
         "2118",
         "planet of the apes",
         "0",
         "planet of the apes",
         "0.049063675",
         "0"
        ],
        [
         "2311",
         "law center to prevent gun violence",
         "0",
         "law center to prevent gun violence",
         "0.04163787",
         "0"
        ],
        [
         "2385",
         "shoots good groups",
         "0",
         "shoots good groups",
         "0.04539332",
         "0"
        ],
        [
         "2411",
         "i have always had the best results when i have teachers that are like me",
         "0",
         "i have always had the best results when i have teachers that are like me",
         "0.039230563",
         "0"
        ],
        [
         "2432",
         "green eyes though",
         "0",
         "green eyes though",
         "0.040548306",
         "0"
        ],
        [
         "2448",
         "i need the money",
         "0",
         "i need the money",
         "0.042657763",
         "0"
        ],
        [
         "2476",
         "you got good friends kid and let me tell ya good friends are hard to come by",
         "0",
         "you got good friends kid and let me tell ya good friends are hard to come by",
         "0.056465168",
         "0"
        ],
        [
         "2543",
         "i feel its over",
         "0",
         "i feel its over",
         "0.04105082",
         "0"
        ],
        [
         "3047",
         "welcome its always great to see new members on",
         "0",
         "welcome its always great to see new members on",
         "0.043241106",
         "0"
        ],
        [
         "3134",
         "lots run about houses about",
         "0",
         "lots run about houses about",
         "0.04242819",
         "0"
        ],
        [
         "3259",
         "scope",
         "0",
         "scope",
         "0.047779612",
         "0"
        ],
        [
         "4130",
         "they smoke skinny cigars",
         "0",
         "they smoke skinny cigars",
         "0.046517927",
         "0"
        ],
        [
         "4219",
         "i hear that and i have heard of using wasp spray",
         "0",
         "i hear that and i have heard of using wasp spray",
         "0.051691383",
         "0"
        ],
        [
         "4264",
         "but overtime they took their arms out of water the burning immediately started",
         "0",
         "but overtime they took their arms out of water the burning immediately started",
         "0.05345443",
         "0"
        ],
        [
         "4266",
         "looks pretty cool",
         "0",
         "looks pretty cool",
         "0.048716314",
         "0"
        ],
        [
         "4269",
         "still in pretty good shape for a grandpa",
         "0",
         "still in pretty good shape for a grandpa",
         "0.049707912",
         "0"
        ],
        [
         "4385",
         "maybe its different there",
         "0",
         "maybe its different there",
         "0.043905932",
         "0"
        ],
        [
         "4466",
         "they have been in russia long enough",
         "0",
         "they have been in russia long enough",
         "0.05241785",
         "0"
        ],
        [
         "4641",
         "i had a good time with my kid",
         "0",
         "i had a good time with my kid",
         "0.0435336",
         "0"
        ],
        [
         "4654",
         "i am going to get one of the two in the next couple of months",
         "0",
         "i am going to get one of the two in the next couple of months",
         "0.053605292",
         "0"
        ],
        [
         "4666",
         "when is someone going to stand up for the laws on executive orders",
         "0",
         "when is someone going to stand up for the laws on executive orders",
         "0.0526481",
         "0"
        ],
        [
         "4681",
         "bought the today",
         "0",
         "bought the today",
         "0.05530039",
         "0"
        ],
        [
         "4682",
         "got a great deal too",
         "0",
         "got a great deal too",
         "0.04741698",
         "0"
        ],
        [
         "4687",
         "works great simple to use even the kids can do it",
         "0",
         "works great simple to use even the kids can do it",
         "0.056114372",
         "0"
        ],
        [
         "4849",
         "check out my thoughts",
         "0",
         "check out my thoughts",
         "0.052697793",
         "0"
        ],
        [
         "4991",
         "i watch less than an hour of television in two weeks most of the time",
         "0",
         "i watch less than an hour of television in two weeks most of the time",
         "0.049105547",
         "0"
        ],
        [
         "5219",
         "i just realized how much anti russian propaganda is on the internet in the last week or two",
         "0",
         "i just realized how much anti russian propaganda is on the internet in the last week or two",
         "0.04835408",
         "0"
        ],
        [
         "5304",
         "good luck",
         "0",
         "good luck",
         "0.04889245",
         "0"
        ],
        [
         "5308",
         "thanks for the kind words in a pm",
         "0",
         "thanks for the kind words in a pm",
         "0.045953583",
         "0"
        ]
       ],
       "shape": {
        "columns": 5,
        "rows": 2601
       }
      },
      "text/html": [
       "<div>\n",
       "<style scoped>\n",
       "    .dataframe tbody tr th:only-of-type {\n",
       "        vertical-align: middle;\n",
       "    }\n",
       "\n",
       "    .dataframe tbody tr th {\n",
       "        vertical-align: top;\n",
       "    }\n",
       "\n",
       "    .dataframe thead th {\n",
       "        text-align: right;\n",
       "    }\n",
       "</style>\n",
       "<table border=\"1\" class=\"dataframe\">\n",
       "  <thead>\n",
       "    <tr style=\"text-align: right;\">\n",
       "      <th></th>\n",
       "      <th>Content</th>\n",
       "      <th>Label</th>\n",
       "      <th>cleaned</th>\n",
       "      <th>pred_prob</th>\n",
       "      <th>predicted_label</th>\n",
       "    </tr>\n",
       "  </thead>\n",
       "  <tbody>\n",
       "    <tr>\n",
       "      <th>529</th>\n",
       "      <td>now with over downloads</td>\n",
       "      <td>0</td>\n",
       "      <td>now with over downloads</td>\n",
       "      <td>0.053934</td>\n",
       "      <td>0</td>\n",
       "    </tr>\n",
       "    <tr>\n",
       "      <th>764</th>\n",
       "      <td>i had actually written the post for last summe...</td>\n",
       "      <td>0</td>\n",
       "      <td>i had actually written the post for last summe...</td>\n",
       "      <td>0.037018</td>\n",
       "      <td>0</td>\n",
       "    </tr>\n",
       "    <tr>\n",
       "      <th>1088</th>\n",
       "      <td>hungry horse see falls</td>\n",
       "      <td>0</td>\n",
       "      <td>hungry horse see falls</td>\n",
       "      <td>0.053767</td>\n",
       "      <td>0</td>\n",
       "    </tr>\n",
       "    <tr>\n",
       "      <th>1149</th>\n",
       "      <td>nothing yet eh</td>\n",
       "      <td>0</td>\n",
       "      <td>nothing yet eh</td>\n",
       "      <td>0.046162</td>\n",
       "      <td>0</td>\n",
       "    </tr>\n",
       "    <tr>\n",
       "      <th>1216</th>\n",
       "      <td>red hot and smoking</td>\n",
       "      <td>0</td>\n",
       "      <td>red hot and smoking</td>\n",
       "      <td>0.055901</td>\n",
       "      <td>0</td>\n",
       "    </tr>\n",
       "    <tr>\n",
       "      <th>...</th>\n",
       "      <td>...</td>\n",
       "      <td>...</td>\n",
       "      <td>...</td>\n",
       "      <td>...</td>\n",
       "      <td>...</td>\n",
       "    </tr>\n",
       "    <tr>\n",
       "      <th>440031</th>\n",
       "      <td>to look over repeatedly</td>\n",
       "      <td>0</td>\n",
       "      <td>to look over repeatedly</td>\n",
       "      <td>0.050050</td>\n",
       "      <td>0</td>\n",
       "    </tr>\n",
       "    <tr>\n",
       "      <th>440273</th>\n",
       "      <td>sorry i forgot to sign earlier i am new</td>\n",
       "      <td>0</td>\n",
       "      <td>sorry i forgot to sign earlier i am new</td>\n",
       "      <td>0.052000</td>\n",
       "      <td>0</td>\n",
       "    </tr>\n",
       "    <tr>\n",
       "      <th>440366</th>\n",
       "      <td>i have arrived just in time i have arrived jus...</td>\n",
       "      <td>0</td>\n",
       "      <td>i have arrived just in time i have arrived jus...</td>\n",
       "      <td>0.045318</td>\n",
       "      <td>0</td>\n",
       "    </tr>\n",
       "    <tr>\n",
       "      <th>440591</th>\n",
       "      <td>agreed i had that part wrong</td>\n",
       "      <td>0</td>\n",
       "      <td>agreed i had that part wrong</td>\n",
       "      <td>0.055324</td>\n",
       "      <td>0</td>\n",
       "    </tr>\n",
       "    <tr>\n",
       "      <th>440811</th>\n",
       "      <td>thanks article</td>\n",
       "      <td>0</td>\n",
       "      <td>thanks article</td>\n",
       "      <td>0.052783</td>\n",
       "      <td>0</td>\n",
       "    </tr>\n",
       "  </tbody>\n",
       "</table>\n",
       "<p>2601 rows × 5 columns</p>\n",
       "</div>"
      ],
      "text/plain": [
       "                                                  Content  Label  \\\n",
       "529                               now with over downloads      0   \n",
       "764     i had actually written the post for last summe...      0   \n",
       "1088                               hungry horse see falls      0   \n",
       "1149                                       nothing yet eh      0   \n",
       "1216                                  red hot and smoking      0   \n",
       "...                                                   ...    ...   \n",
       "440031                            to look over repeatedly      0   \n",
       "440273            sorry i forgot to sign earlier i am new      0   \n",
       "440366  i have arrived just in time i have arrived jus...      0   \n",
       "440591                       agreed i had that part wrong      0   \n",
       "440811                                     thanks article      0   \n",
       "\n",
       "                                                  cleaned  pred_prob  \\\n",
       "529                               now with over downloads   0.053934   \n",
       "764     i had actually written the post for last summe...   0.037018   \n",
       "1088                               hungry horse see falls   0.053767   \n",
       "1149                                       nothing yet eh   0.046162   \n",
       "1216                                  red hot and smoking   0.055901   \n",
       "...                                                   ...        ...   \n",
       "440031                            to look over repeatedly   0.050050   \n",
       "440273            sorry i forgot to sign earlier i am new   0.052000   \n",
       "440366  i have arrived just in time i have arrived jus...   0.045318   \n",
       "440591                       agreed i had that part wrong   0.055324   \n",
       "440811                                     thanks article   0.052783   \n",
       "\n",
       "        predicted_label  \n",
       "529                   0  \n",
       "764                   0  \n",
       "1088                  0  \n",
       "1149                  0  \n",
       "1216                  0  \n",
       "...                 ...  \n",
       "440031                0  \n",
       "440273                0  \n",
       "440366                0  \n",
       "440591                0  \n",
       "440811                0  \n",
       "\n",
       "[2601 rows x 5 columns]"
      ]
     },
     "execution_count": 46,
     "metadata": {},
     "output_type": "execute_result"
    }
   ],
   "source": [
    "hate_df\n",
    "nonhate_df\n",
    "hate_df"
   ]
  }
 ],
 "metadata": {
  "kernelspec": {
   "display_name": "base",
   "language": "python",
   "name": "python3"
  },
  "language_info": {
   "codemirror_mode": {
    "name": "ipython",
    "version": 3
   },
   "file_extension": ".py",
   "mimetype": "text/x-python",
   "name": "python",
   "nbconvert_exporter": "python",
   "pygments_lexer": "ipython3",
   "version": "3.12.2"
  }
 },
 "nbformat": 4,
 "nbformat_minor": 5
}
