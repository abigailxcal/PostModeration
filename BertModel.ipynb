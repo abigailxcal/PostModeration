{
 "cells": [
  {
   "cell_type": "code",
   "execution_count": 2,
   "id": "5f37dccb",
   "metadata": {},
   "outputs": [
    {
     "name": "stdout",
     "output_type": "stream",
     "text": [
      "Files in TrainingData folder:\n",
      "['combined_dataset.csv', 'combined_dataset_emoji.csv', 'combined_dataset_old.csv', 'HateSpeechDatasetBalanced.csv', 'labeled_data.csv']\n"
     ]
    }
   ],
   "source": [
    "import os\n",
    "import pandas as pd\n",
    "\n",
    "folder_path = r\"C:\\Users\\raned\\Documents\\Github\\POSTMODERATION\\TrainingData\"\n",
    "print(\"Files in TrainingData folder:\")\n",
    "print(os.listdir(folder_path))\n",
    "\n",
    "file_path = os.path.join(folder_path, \"combined_dataset_emoji.csv\")\n",
    "training_data_df = pd.read_csv(file_path)"
   ]
  },
  {
   "cell_type": "code",
   "execution_count": 4,
   "id": "fabaee5b",
   "metadata": {},
   "outputs": [
    {
     "name": "stderr",
     "output_type": "stream",
     "text": [
      "Some weights of DistilBertForSequenceClassification were not initialized from the model checkpoint at distilbert-base-uncased and are newly initialized: ['classifier.weight', 'pre_classifier.bias', 'classifier.bias', 'pre_classifier.weight']\n",
      "You should probably TRAIN this model on a down-stream task to be able to use it for predictions and inference.\n"
     ]
    },
    {
     "data": {
      "text/html": [
       "\n",
       "    <div>\n",
       "      \n",
       "      <progress value='438' max='438' style='width:300px; height:20px; vertical-align: middle;'></progress>\n",
       "      [438/438 27:09, Epoch 2/2]\n",
       "    </div>\n",
       "    <table border=\"1\" class=\"dataframe\">\n",
       "  <thead>\n",
       " <tr style=\"text-align: left;\">\n",
       "      <th>Step</th>\n",
       "      <th>Training Loss</th>\n",
       "      <th>Validation Loss</th>\n",
       "    </tr>\n",
       "  </thead>\n",
       "  <tbody>\n",
       "  </tbody>\n",
       "</table><p>"
      ],
      "text/plain": [
       "<IPython.core.display.HTML object>"
      ]
     },
     "metadata": {},
     "output_type": "display_data"
    },
    {
     "data": {
      "text/html": [
       "\n",
       "    <div>\n",
       "      \n",
       "      <progress value='187' max='187' style='width:300px; height:20px; vertical-align: middle;'></progress>\n",
       "      [187/187 03:48]\n",
       "    </div>\n",
       "    "
      ],
      "text/plain": [
       "<IPython.core.display.HTML object>"
      ]
     },
     "metadata": {},
     "output_type": "display_data"
    },
    {
     "name": "stdout",
     "output_type": "stream",
     "text": [
      "{'eval_loss': 0.43859291076660156, 'eval_accuracy': 0.8072672471533825, 'eval_precision': 0.8236289776574137, 'eval_recall': 0.7943192948090108, 'eval_f1': 0.8087086588000665, 'eval_runtime': 229.9671, 'eval_samples_per_second': 25.969, 'eval_steps_per_second': 0.813, 'epoch': 2.0}\n"
     ]
    }
   ],
   "source": [
    "# 1. Install necessary packages (if not already installed)\n",
    "# !pip install transformers scikit-learn torch\n",
    "\n",
    "# 2. Imports\n",
    "import pandas as pd\n",
    "import torch\n",
    "from sklearn.model_selection import train_test_split\n",
    "from transformers import DistilBertTokenizer, DistilBertForSequenceClassification, Trainer, TrainingArguments\n",
    "from sklearn.metrics import accuracy_score, precision_recall_fscore_support\n",
    "\n",
    "\n",
    "# 4. Split into training and validation sets\n",
    "train_texts, val_texts, train_labels, val_labels = train_test_split(\n",
    "    training_data_df['CleanContent'].tolist(),\n",
    "    training_data_df['Label'].tolist(),\n",
    "    test_size=0.2,\n",
    "    random_state=42\n",
    ")\n",
    "\n",
    "# 5. For quick prototyping, use only 7000 training samples\n",
    "train_texts = train_texts[:7000]\n",
    "train_labels = train_labels[:7000]\n",
    "\n",
    "# Ensure all texts are strings and remove NaNs\n",
    "train_texts = [str(t) if pd.notnull(t) else \"\" for t in train_texts]\n",
    "val_texts = [str(t) if pd.notnull(t) else \"\" for t in val_texts]\n",
    "\n",
    "\n",
    "# 6. Load DistilBERT tokenizer and model\n",
    "tokenizer = DistilBertTokenizer.from_pretrained('distilbert-base-uncased')\n",
    "model = DistilBertForSequenceClassification.from_pretrained('distilbert-base-uncased', num_labels=2)\n",
    "\n",
    "# 7. Tokenize the datasets (you can lower max_length to 64 for faster speed if desired)\n",
    "train_encodings = tokenizer(train_texts, truncation=True, padding=True, max_length=128)\n",
    "val_encodings = tokenizer(val_texts, truncation=True, padding=True, max_length=128)\n",
    "\n",
    "# 8. PyTorch Dataset wrapper\n",
    "class TweetDataset(torch.utils.data.Dataset):\n",
    "    def __init__(self, encodings, labels):\n",
    "        self.encodings = encodings\n",
    "        self.labels = labels\n",
    "\n",
    "    def __getitem__(self, idx):\n",
    "        item = {key: torch.tensor(val[idx]) for key, val in self.encodings.items()}\n",
    "        item['labels'] = torch.tensor(self.labels[idx])\n",
    "        return item\n",
    "\n",
    "    def __len__(self):\n",
    "        return len(self.labels)\n",
    "\n",
    "train_dataset = TweetDataset(train_encodings, train_labels)\n",
    "val_dataset = TweetDataset(val_encodings, val_labels)\n",
    "\n",
    "# 9. Training arguments — optimized for speed\n",
    "training_args = TrainingArguments(\n",
    "    output_dir='./results',\n",
    "    evaluation_strategy=\"steps\",         # Evaluate every N steps\n",
    "    save_strategy=\"steps\",               # Save every N steps\n",
    "    eval_steps=1000,\n",
    "    save_steps=1000,\n",
    "    logging_steps=500,\n",
    "    num_train_epochs=2,\n",
    "    per_device_train_batch_size=32,      # Try increasing to 32 for speed if GPU allows\n",
    "    per_device_eval_batch_size=32,\n",
    "    load_best_model_at_end=True,\n",
    "    save_total_limit=2,\n",
    "    logging_dir='./logs',\n",
    "    fp16=torch.cuda.is_available(),      # Enables half-precision (fast on GPU)\n",
    ")\n",
    "\n",
    "def compute_metrics(pred):\n",
    "    labels = pred.label_ids\n",
    "    preds = pred.predictions.argmax(-1)  # get class with highest probability\n",
    "    precision, recall, f1, _ = precision_recall_fscore_support(labels, preds, average='binary')  # change to 'macro' or 'weighted' if needed\n",
    "    acc = accuracy_score(labels, preds)\n",
    "    return {\n",
    "        'accuracy': acc,\n",
    "        'precision': precision,\n",
    "        'recall': recall,\n",
    "        'f1': f1,\n",
    "    }\n",
    "\n",
    "# 10. Define trainer\n",
    "trainer = Trainer(\n",
    "    model=model,\n",
    "    args=training_args,\n",
    "    train_dataset=train_dataset,\n",
    "    eval_dataset=val_dataset,\n",
    "    compute_metrics=compute_metrics\n",
    ")\n",
    "\n",
    "\n",
    "# 11. Train the model\n",
    "trainer.train()\n",
    "\n",
    "results = trainer.evaluate()\n",
    "print(results)\n",
    "\n"
   ]
  },
  {
   "cell_type": "code",
   "execution_count": null,
   "id": "9758c48c",
   "metadata": {},
   "outputs": [
    {
     "name": "stdout",
     "output_type": "stream",
     "text": [
      "tensor([1, 0, 0, 0, 1])\n"
     ]
    }
   ],
   "source": [
    "\n",
    "# 1. Define new texts\n",
    "new_texts = [\n",
    "    \"Fuck this place.\", \n",
    "    \"What a beautiful day, feeling grateful!\",\n",
    "    \"I hate it here.\",\n",
    "    \"You're a piece of shit\",\n",
    "    \"Dumb ass bitch\",\n",
    "    \"you’re such a dumbass 🤡 nobody wants you around 💩\", #testing malicious tweets with emojis\n",
    "    \"go back to your country 🖕\",\n",
    "    \"You're such a clown 🤡 lol\",\n",
    "    \"I hate you\"\n",
    "]\n",
    "\n",
    "# 2. Tokenize the new content\n",
    "new_encodings = tokenizer(new_texts, truncation=True, padding=True, max_length=128, return_tensors=\"pt\")\n",
    "\n",
    "# 3. Run the model in evaluation mode (no gradients)\n",
    "model.eval()\n",
    "with torch.no_grad():\n",
    "    outputs = model(**new_encodings)\n",
    "    predictions = torch.argmax(outputs.logits, dim=1)\n",
    "\n",
    "# 4. Print the predictions\n",
    "print(predictions)"
   ]
  }
 ],
 "metadata": {
  "kernelspec": {
   "display_name": "Python 3 (ipykernel)",
   "language": "python",
   "name": "python3"
  },
  "language_info": {
   "codemirror_mode": {
    "name": "ipython",
    "version": 3
   },
   "file_extension": ".py",
   "mimetype": "text/x-python",
   "name": "python",
   "nbconvert_exporter": "python",
   "pygments_lexer": "ipython3",
   "version": "3.11.5"
  }
 },
 "nbformat": 4,
 "nbformat_minor": 5
}
