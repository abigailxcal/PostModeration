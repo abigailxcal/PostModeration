{
 "cells": [
  {
   "cell_type": "code",
   "execution_count": 38,
   "id": "a1f905c8",
   "metadata": {},
   "outputs": [
    {
     "name": "stdout",
     "output_type": "stream",
     "text": [
      "Files in TrainingData folder:\n",
      "['combined_balanced_dataset.csv', 'combined_balanced_dataset4.csv', 'combined_balanced_datasetMALICIOUS.csv', 'combined_balanced_dataset_emoji.csv', 'combined_balanced_dataset_og.csv', 'combined_balanced_dataset_og1.csv', 'combined_balanced_dataset_og2.csv', 'combined_balanced_dataset_og3.csv', 'combined_dataset.csv', 'combined_dataset3.csv', 'combined_dataset_emoji.csv', 'combined_dataset_old.csv', 'HateSpeechDatasetBalanced.csv', 'labeled_data.csv', 'text.csv']\n"
     ]
    }
   ],
   "source": [
    "import os\n",
    "import pandas as pd\n",
    "\n",
    "folder_path = r\"C:\\Users\\raned\\Documents\\Github\\POSTMODERATION\\TrainingData\"\n",
    "print(\"Files in TrainingData folder:\")\n",
    "print(os.listdir(folder_path))\n",
    "\n",
    "file_path = os.path.join(folder_path, \"combined_balanced_dataset_emoji.csv\")\n",
    "training_data_df = pd.read_csv(file_path)\n",
    "\n",
    "\n"
   ]
  },
  {
   "cell_type": "code",
   "execution_count": 39,
   "id": "000c118c",
   "metadata": {},
   "outputs": [
    {
     "name": "stdout",
     "output_type": "stream",
     "text": [
      "Fitting 5 folds for each of 8 candidates, totalling 40 fits\n",
      "Best Params: {'C': 10, 'class_weight': 'balanced', 'solver': 'liblinear'}\n",
      "Accuracy: 0.9320877817319099\n",
      "Classification Report:\n",
      "                precision    recall  f1-score   support\n",
      "\n",
      "Not Malicious       0.97      0.95      0.96      2886\n",
      "    Malicious       0.73      0.85      0.78       486\n",
      "\n",
      "     accuracy                           0.93      3372\n",
      "    macro avg       0.85      0.90      0.87      3372\n",
      " weighted avg       0.94      0.93      0.93      3372\n",
      "\n"
     ]
    }
   ],
   "source": [
    "# 1. Imports\n",
    "import pandas as pd\n",
    "import re\n",
    "from sklearn.feature_extraction.text import TfidfVectorizer\n",
    "from sklearn.linear_model import LogisticRegression\n",
    "from sklearn.model_selection import train_test_split, GridSearchCV\n",
    "from sklearn.metrics import classification_report, accuracy_score\n",
    "\n",
    "\n",
    "# 4. Remove any NaNs\n",
    "training_data_df['Content'] = training_data_df['Content'].fillna('')\n",
    "\n",
    "# 5. Train-test split\n",
    "X_train, X_test, y_train, y_test = train_test_split(\n",
    "    training_data_df['Content'], \n",
    "    training_data_df['Label'], \n",
    "    test_size=0.2, \n",
    "    random_state=42,\n",
    "    stratify=training_data_df['Label']  # to maintain class balance\n",
    ")\n",
    "\n",
    "# 6. TF-IDF Vectorization\n",
    "vectorizer = TfidfVectorizer(max_features=5000, ngram_range=(1, 2))\n",
    "X_train_tfidf = vectorizer.fit_transform(X_train)\n",
    "X_test_tfidf = vectorizer.transform(X_test)\n",
    "\n",
    "# 7. Logistic Regression with Grid Search\n",
    "param_grid = {\n",
    "    'C': [0.01, 0.1, 1, 10],\n",
    "    'class_weight': [None, 'balanced'],\n",
    "    'solver': ['liblinear'],  # good for small datasets & L1 penalty\n",
    "}\n",
    "\n",
    "grid = GridSearchCV(\n",
    "    LogisticRegression(max_iter=2000),\n",
    "    param_grid,\n",
    "    cv=5,\n",
    "    scoring='f1',\n",
    "    verbose=1,\n",
    "    n_jobs=-1\n",
    ")\n",
    "\n",
    "grid.fit(X_train_tfidf, y_train)\n",
    "\n",
    "# 8. Evaluation\n",
    "best_log_reg = grid.best_estimator_\n",
    "y_pred = best_log_reg.predict(X_test_tfidf)\n",
    "\n",
    "print(\"Best Params:\", grid.best_params_)\n",
    "print(\"Accuracy:\", accuracy_score(y_test, y_pred))\n",
    "print(\"Classification Report:\\n\", classification_report(y_test, y_pred, target_names=['Not Malicious', 'Malicious']))\n"
   ]
  },
  {
   "cell_type": "code",
   "execution_count": 43,
   "id": "1b3dcb31",
   "metadata": {},
   "outputs": [
    {
     "name": "stdout",
     "output_type": "stream",
     "text": [
      "Text: Fuck this place.\n",
      "Prediction: Malicious\n",
      "\n",
      "Text: What a beautiful day, feeling grateful!\n",
      "Prediction: Not Malicious\n",
      "\n",
      "Text: I love you\n",
      "Prediction: Not Malicious\n",
      "\n",
      "Text: can't wait till i get my full appetite back. only ate a half ghetto sandwich. no lettuce, no nothing.\n",
      "Prediction: Not Malicious\n",
      "\n",
      "Text: Dumb ass bitch\n",
      "Prediction: Malicious\n",
      "\n",
      "Text: you’re such a dumbass 🤡 nobody wants you around 💩\n",
      "Prediction: Malicious\n",
      "\n",
      "Text: go back to your country 🖕\n",
      "Prediction: Malicious\n",
      "\n",
      "Text: 🖕🤡🖕\n",
      "Prediction: Not Malicious\n",
      "\n",
      "Text: You're such a clown 🤡 lol\n",
      "Prediction: Malicious\n",
      "\n",
      "Text: I hate you\n",
      "Prediction: Malicious\n",
      "\n"
     ]
    }
   ],
   "source": [
    "# 1. Define new texts\n",
    "new_texts = [\n",
    "    \"Fuck this place.\", \n",
    "    \"What a beautiful day, feeling grateful!\",\n",
    "    \"I love you\",\n",
    "    \"can't wait till i get my full appetite back. only ate a half ghetto sandwich. no lettuce, no nothing.\",\n",
    "    \"Dumb ass bitch\",\n",
    "    \"you’re such a dumbass 🤡 nobody wants you around 💩\", #testing malicious tweets with emojis\n",
    "    \"go back to your country 🖕\",\n",
    "    \"🖕🤡🖕\",\n",
    "    \"You're such a clown 🤡 lol\",\n",
    "    \"I hate you\"\n",
    "]\n",
    "\n",
    "# 2. Transform new texts with the same TF-IDF vectorizer\n",
    "new_texts_tfidf = vectorizer.transform(new_texts)\n",
    "\n",
    "# 3. Predict using the trained logistic regression model\n",
    "predictions = best_log_reg.predict(new_texts_tfidf)\n",
    "\n",
    "# 4. Print results with readable labels\n",
    "labels = ['Not Malicious', 'Malicious']\n",
    "for text, pred in zip(new_texts, predictions):\n",
    "    print(f\"Text: {text}\\nPrediction: {labels[pred]}\\n\")\n"
   ]
  }
 ],
 "metadata": {
  "kernelspec": {
   "display_name": "Python 3 (ipykernel)",
   "language": "python",
   "name": "python3"
  }
 },
 "nbformat": 4,
 "nbformat_minor": 5
}
