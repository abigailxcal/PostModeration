{
 "cells": [
  {
   "cell_type": "code",
   "execution_count": 1,
   "id": "a1f905c8",
   "metadata": {},
   "outputs": [
    {
     "name": "stdout",
     "output_type": "stream",
     "text": [
      "Files in TrainingData folder:\n",
      "['combined_dataset.csv', 'combined_dataset_emoji.csv', 'combined_dataset_old.csv', 'HateSpeechDatasetBalanced.csv', 'labeled_data.csv']\n"
     ]
    }
   ],
   "source": [
    "import os\n",
    "import pandas as pd\n",
    "\n",
    "folder_path = r\"C:\\Users\\raned\\Documents\\Github\\POSTMODERATION\\TrainingData\"\n",
    "print(\"Files in TrainingData folder:\")\n",
    "print(os.listdir(folder_path))\n",
    "\n",
    "file_path = os.path.join(folder_path, \"combined_dataset_emoji.csv\")\n",
    "training_data_df = pd.read_csv(file_path)\n",
    "\n",
    "\n"
   ]
  },
  {
   "cell_type": "code",
   "execution_count": 2,
   "id": "3b9c4523",
   "metadata": {},
   "outputs": [
    {
     "name": "stdout",
     "output_type": "stream",
     "text": [
      "Fitting 5 folds for each of 8 candidates, totalling 40 fits\n",
      "Best Params: {'C': 1, 'class_weight': None, 'solver': 'liblinear'}\n",
      "Accuracy: 0.8000669792364367\n",
      "Classification Report:\n",
      "                precision    recall  f1-score   support\n",
      "\n",
      "Not Malicious       0.80      0.79      0.79      2909\n",
      "    Malicious       0.80      0.81      0.81      3063\n",
      "\n",
      "     accuracy                           0.80      5972\n",
      "    macro avg       0.80      0.80      0.80      5972\n",
      " weighted avg       0.80      0.80      0.80      5972\n",
      "\n"
     ]
    }
   ],
   "source": [
    "# 1. Imports\n",
    "from sklearn.feature_extraction.text import TfidfVectorizer\n",
    "from sklearn.linear_model import LogisticRegression\n",
    "from sklearn.model_selection import train_test_split, GridSearchCV\n",
    "from sklearn.metrics import classification_report, accuracy_score\n",
    "import pandas as pd\n",
    "import emoji\n",
    "import re\n",
    "\n",
    "# Ensure no NaNs exist in CleanContent\n",
    "training_data_df['CleanContent'] = training_data_df['CleanContent'].fillna('')\n",
    "\n",
    "# Now split safely\n",
    "X_train, X_test, y_train, y_test = train_test_split(\n",
    "    training_data_df['CleanContent'], \n",
    "    training_data_df['Label'], \n",
    "    test_size=0.2, \n",
    "    random_state=42\n",
    ")\n",
    "\n",
    "# TF-IDF Vectorization\n",
    "vectorizer = TfidfVectorizer(max_features=5000, ngram_range=(1, 2))\n",
    "X_train_tfidf = vectorizer.fit_transform(X_train)\n",
    "X_test_tfidf = vectorizer.transform(X_test)\n",
    "\n",
    "\n",
    "# 6. Grid Search\n",
    "param_grid = {\n",
    "    'C': [0.01, 0.1, 1, 10],\n",
    "    'class_weight': [None, 'balanced'],\n",
    "    'solver': ['liblinear'],\n",
    "}\n",
    "\n",
    "grid = GridSearchCV(LogisticRegression(max_iter=2000), param_grid, cv=5, scoring='f1', verbose=1, n_jobs=-1)\n",
    "grid.fit(X_train_tfidf, y_train)\n",
    "\n",
    "# 7. Evaluate\n",
    "best_log_reg = grid.best_estimator_\n",
    "y_pred = best_log_reg.predict(X_test_tfidf)\n",
    "\n",
    "print(\"Best Params:\", grid.best_params_)\n",
    "print(\"Accuracy:\", accuracy_score(y_test, y_pred))\n",
    "print(\"Classification Report:\\n\", classification_report(y_test, y_pred, target_names=['Not Malicious', 'Malicious']))\n",
    "\n"
   ]
  },
  {
   "cell_type": "code",
   "execution_count": 3,
   "id": "1b3dcb31",
   "metadata": {},
   "outputs": [
    {
     "name": "stdout",
     "output_type": "stream",
     "text": [
      "Text: Fuck this place.\n",
      "Prediction: Malicious\n",
      "\n",
      "Text: What a beautiful day, feeling grateful!\n",
      "Prediction: Not Malicious\n",
      "\n",
      "Text: I hate it here.\n",
      "Prediction: Not Malicious\n",
      "\n",
      "Text: You're a piece of shit\n",
      "Prediction: Malicious\n",
      "\n",
      "Text: Dumb ass bitch\n",
      "Prediction: Malicious\n",
      "\n",
      "Text: you’re such a dumbass 🤡 nobody wants you around 💩\n",
      "Prediction: Malicious\n",
      "\n",
      "Text: go back to your country 🖕\n",
      "Prediction: Malicious\n",
      "\n",
      "Text: You're such a clown 🤡 lol\n",
      "Prediction: Malicious\n",
      "\n",
      "Text: I hate you\n",
      "Prediction: Malicious\n",
      "\n"
     ]
    }
   ],
   "source": [
    "# 1. Define new texts\n",
    "new_texts = [\n",
    "    \"Fuck this place.\", \n",
    "    \"What a beautiful day, feeling grateful!\",\n",
    "    \"I hate it here.\",\n",
    "    \"You're a piece of shit\",\n",
    "    \"Dumb ass bitch\",\n",
    "    \"you’re such a dumbass 🤡 nobody wants you around 💩\", #testing malicious tweets with emojis\n",
    "    \"go back to your country 🖕\",\n",
    "    \"You're such a clown 🤡 lol\",\n",
    "    \"I hate you\"\n",
    "]\n",
    "\n",
    "# 2. Transform new texts with the same TF-IDF vectorizer\n",
    "new_texts_tfidf = vectorizer.transform(new_texts)\n",
    "\n",
    "# 3. Predict using the trained logistic regression model\n",
    "predictions = best_log_reg.predict(new_texts_tfidf)\n",
    "\n",
    "# 4. Print results with readable labels\n",
    "labels = ['Not Malicious', 'Malicious']\n",
    "for text, pred in zip(new_texts, predictions):\n",
    "    print(f\"Text: {text}\\nPrediction: {labels[pred]}\\n\")\n"
   ]
  }
 ],
 "metadata": {
  "kernelspec": {
   "display_name": "Python 3 (ipykernel)",
   "language": "python",
   "name": "python3"
  },
  "language_info": {
   "codemirror_mode": {
    "name": "ipython",
    "version": 3
   },
   "file_extension": ".py",
   "mimetype": "text/x-python",
   "name": "python",
   "nbconvert_exporter": "python",
   "pygments_lexer": "ipython3",
   "version": "3.11.5"
  }
 },
 "nbformat": 4,
 "nbformat_minor": 5
}
