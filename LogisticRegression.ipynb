{
 "cells": [
  {
   "cell_type": "code",
   "execution_count": 9,
   "id": "a1f905c8",
   "metadata": {},
   "outputs": [
    {
     "name": "stdout",
     "output_type": "stream",
     "text": [
      "Files in TrainingData folder:\n",
      "['text.csv', 'training_data.csv', 'combined_dataset_emoji_cleaned.csv', 'HateSpeechDatasetBalanced.csv', 'combined_balanced_dataset_BERT.csv', 'labeled_data.csv']\n"
     ]
    }
   ],
   "source": [
    "import os\n",
    "import pandas as pd\n",
    "\n",
    "# folder_path = r\"C:\\Users\\raned\\Documents\\Github\\POSTMODERATION\\TrainingData\"\n",
    "# print(\"Files in TrainingData folder:\")\n",
    "# print(os.listdir(folder_path))\n",
    "\n",
    "# file_path = os.path.join(folder_path, \"combined_balanced_dataset_emoji.csv\")\n",
    "# training_data_df = pd.read_csv(file_path)\n",
    "\n",
    "\n",
    "folder_path = r\"TrainingData\"\n",
    "print(\"Files in TrainingData folder:\")\n",
    "print(os.listdir(folder_path))\n",
    "\n",
    "file_path = os.path.join(folder_path, \"combined_balanced_dataset_BERT.csv\")\n",
    "training_data_df = pd.read_csv(file_path)\n",
    "\n"
   ]
  },
  {
   "cell_type": "code",
   "execution_count": null,
   "id": "fac6a048",
   "metadata": {},
   "outputs": [],
   "source": [
    "training_data_df['Content'] = training_data_df['CleanContent']\n",
    "training_data_df = training_data_df[['Content', 'Label']]"
   ]
  },
  {
   "cell_type": "code",
   "execution_count": null,
   "id": "000c118c",
   "metadata": {},
   "outputs": [
    {
     "name": "stdout",
     "output_type": "stream",
     "text": [
      "Fitting 5 folds for each of 4 candidates, totalling 20 fits\n",
      "Best Params: {'C': 10, 'class_weight': None, 'solver': 'liblinear'}\n",
      "Accuracy: 0.9014860977948226\n",
      "Classification Report:\n",
      "                precision    recall  f1-score   support\n",
      "\n",
      "Not Malicious       0.92      0.95      0.94      3286\n",
      "    Malicious       0.80      0.71      0.75       886\n",
      "\n",
      "     accuracy                           0.90      4172\n",
      "    macro avg       0.86      0.83      0.85      4172\n",
      " weighted avg       0.90      0.90      0.90      4172\n",
      "\n"
     ]
    },
    {
     "data": {
      "image/png": "[encoded data removed]",
      "text/plain": [
       "<Figure size 800x600 with 2 Axes>"
      ]
     },
     "metadata": {},
     "output_type": "display_data"
    }
   ],
   "source": [
    "# 1. Imports\n",
    "import pandas as pd\n",
    "import re\n",
    "from sklearn.feature_extraction.text import TfidfVectorizer\n",
    "from sklearn.linear_model import LogisticRegression\n",
    "from sklearn.model_selection import train_test_split, GridSearchCV\n",
    "from sklearn.metrics import classification_report, accuracy_score\n",
    "\n",
    "\n",
    "# 4. Remove any NaNs\n",
    "training_data_df['Content'] = training_data_df['Content'].fillna('')\n",
    "\n",
    "# 5. Train-test split\n",
    "X_train, X_test, y_train, y_test = train_test_split(\n",
    "    training_data_df['Content'], \n",
    "    training_data_df['Label'], \n",
    "    test_size=0.2, \n",
    "    random_state=42,\n",
    "    stratify=training_data_df['Label']  # to maintain class balance\n",
    ")\n",
    "\n",
    "# 6. TF-IDF Vectorization\n",
    "vectorizer = TfidfVectorizer(max_features=5000, ngram_range=(1, 2))\n",
    "X_train_tfidf = vectorizer.fit_transform(X_train)\n",
    "X_test_tfidf = vectorizer.transform(X_test)\n",
    "\n",
    "# 7. Logistic Regression with Grid Search\n",
    "param_grid = {\n",
    "    'C': [0.01, 0.1, 1, 10],\n",
    "    'class_weight': [None, 'balanced'],\n",
    "    'solver': ['liblinear'],  # good for small datasets & L1 penalty\n",
    "}\n",
    "\n",
    "grid = GridSearchCV(\n",
    "    LogisticRegression(max_iter=2000),\n",
    "    param_grid,\n",
    "    cv=5,\n",
    "    scoring='f1',\n",
    "    verbose=1,\n",
    "    n_jobs=-1\n",
    ")\n",
    "\n",
    "grid.fit(X_train_tfidf, y_train)\n",
    "\n",
    "# 8. Evaluation\n",
    "best_log_reg = grid.best_estimator_\n",
    "y_pred = best_log_reg.predict(X_test_tfidf)\n",
    "\n",
    "print(\"Best Params:\", grid.best_params_)\n",
    "print(\"Accuracy:\", accuracy_score(y_test, y_pred))\n",
    "print(\"Classification Report:\\n\", classification_report(y_test, y_pred, target_names=['Not Malicious', 'Malicious']))\n",
    "\n",
    "# confusion matrix\n",
    "import seaborn as sns\n",
    "import matplotlib.pyplot as plt\n",
    "from sklearn.metrics import confusion_matrix\n",
    "cm = confusion_matrix(y_test, y_pred, labels=best_log_reg.classes_)\n",
    "plt.figure(figsize=(8, 6))\n",
    "sns.heatmap(cm, annot=True, fmt='d', cmap='Blues', xticklabels=best_log_reg.classes_, yticklabels=best_log_reg.classes_)\n",
    "plt.xlabel('Predicted')\n",
    "plt.ylabel('Actual')\n",
    "plt.title('Confusion Matrix')\n",
    "plt.show()\n",
    "# Save the model and vectorizer\n",
    "\n",
    "#Accuracy = (TP + TN) / (TP + TN + FP + FN)\n",
    "# = (2924 + 779) / (2924 + 779 + 362 + 107 ) = 0.8876\n"
   ]
  },
  {
   "cell_type": "code",
   "execution_count": 8,
   "id": "1b3dcb31",
   "metadata": {},
   "outputs": [
    {
     "name": "stdout",
     "output_type": "stream",
     "text": [
      "Text: Fuck this place.\n",
      "Prediction: Malicious\n",
      "\n",
      "Text: What a beautiful day, feeling grateful!\n",
      "Prediction: Not Malicious\n",
      "\n",
      "Text: I love you\n",
      "Prediction: Malicious\n",
      "\n",
      "Text: can't wait till i get my full appetite back. only ate a half ghetto sandwich. no lettuce, no nothing.\n",
      "Prediction: Malicious\n",
      "\n",
      "Text: Dumb ass bitch\n",
      "Prediction: Malicious\n",
      "\n",
      "Text: you’re such a dumbass 🤡 nobody wants you around 💩\n",
      "Prediction: Malicious\n",
      "\n",
      "Text: go back to your country 🖕\n",
      "Prediction: Malicious\n",
      "\n",
      "Text: 🖕🤡🖕\n",
      "Prediction: Not Malicious\n",
      "\n",
      "Text: You're such a clown 🤡 lol\n",
      "Prediction: Malicious\n",
      "\n",
      "Text: I hate you\n",
      "Prediction: Malicious\n",
      "\n"
     ]
    }
   ],
   "source": [
    "# 1. Define new texts\n",
    "new_texts = [\n",
    "    \"Fuck this place.\", \n",
    "    \"What a beautiful day, feeling grateful!\",\n",
    "    \"I love you\",\n",
    "    \"can't wait till i get my full appetite back. only ate a half ghetto sandwich. no lettuce, no nothing.\",\n",
    "    \"Dumb ass bitch\",\n",
    "    \"you’re such a dumbass 🤡 nobody wants you around 💩\", #testing malicious tweets with emojis\n",
    "    \"go back to your country 🖕\",\n",
    "    \"🖕🤡🖕\",\n",
    "    \"You're such a clown 🤡 lol\",\n",
    "    \"I hate you\"\n",
    "]\n",
    "\n",
    "# 2. Transform new texts with the same TF-IDF vectorizer\n",
    "new_texts_tfidf = vectorizer.transform(new_texts)\n",
    "\n",
    "# 3. Predict using the trained logistic regression model\n",
    "predictions = best_log_reg.predict(new_texts_tfidf)\n",
    "\n",
    "# 4. Print results with readable labels\n",
    "labels = ['Not Malicious', 'Malicious']\n",
    "for text, pred in zip(new_texts, predictions):\n",
    "    print(f\"Text: {text}\\nPrediction: {labels[pred]}\\n\")\n"
   ]
  }
 ],
 "metadata": {
  "kernelspec": {
   "display_name": "base",
   "language": "python",
   "name": "python3"
  },
  "language_info": {
   "codemirror_mode": {
    "name": "ipython",
    "version": 3
   },
   "file_extension": ".py",
   "mimetype": "text/x-python",
   "name": "python",
   "nbconvert_exporter": "python",
   "pygments_lexer": "ipython3",
   "version": "3.12.2"
  }
 },
 "nbformat": 4,
 "nbformat_minor": 5
}
